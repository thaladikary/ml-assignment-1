{
  "cells": [
    {
      "cell_type": "code",
      "execution_count": 17,
      "metadata": {
        "id": "bNFpmdoGbrjy"
      },
      "outputs": [],
      "source": [
        "# Python ≥3.5 is required\n",
        "import sys\n",
        "assert sys.version_info >= (3, 5)\n",
        "\n",
        "# Scikit-Learn ≥0.20 is required\n",
        "import sklearn\n",
        "assert sklearn.__version__ >= \"0.20\"\n",
        "\n",
        "# import numpy as np\n",
        "import pandas as pd\n",
        "\n",
        "from sklearn.cluster import KMeans\n",
        "from sklearn.preprocessing import MinMaxScaler\n",
        "from sklearn.preprocessing import OneHotEncoder\n",
        "import matplotlib.pyplot as plt\n",
        "%matplotlib inline\n",
        "import seaborn as sns\n",
        "import numpy as np\n"
      ]
    },
    {
      "cell_type": "code",
      "execution_count": 53,
      "metadata": {
        "colab": {
          "base_uri": "https://localhost:8080/",
          "height": 226
        },
        "id": "C_AQSf2Jgr6o",
        "outputId": "671808a2-a114-438c-b601-e516272e36e8"
      },
      "outputs": [
        {
          "data": {
            "text/html": [
              "<div>\n",
              "<style scoped>\n",
              "    .dataframe tbody tr th:only-of-type {\n",
              "        vertical-align: middle;\n",
              "    }\n",
              "\n",
              "    .dataframe tbody tr th {\n",
              "        vertical-align: top;\n",
              "    }\n",
              "\n",
              "    .dataframe thead th {\n",
              "        text-align: right;\n",
              "    }\n",
              "</style>\n",
              "<table border=\"1\" class=\"dataframe\">\n",
              "  <thead>\n",
              "    <tr style=\"text-align: right;\">\n",
              "      <th></th>\n",
              "      <th>Age</th>\n",
              "      <th>Job</th>\n",
              "      <th>Marital</th>\n",
              "      <th>Education</th>\n",
              "      <th>Credit?</th>\n",
              "      <th>Balance</th>\n",
              "      <th>HousingLoan</th>\n",
              "      <th>PersonalLoan</th>\n",
              "      <th>Contact</th>\n",
              "      <th>LastDay</th>\n",
              "      <th>LastMonth</th>\n",
              "      <th>ContactDuration</th>\n",
              "      <th>CampaignContacts</th>\n",
              "      <th>Pdays</th>\n",
              "      <th>PreviousContacts</th>\n",
              "      <th>POutcome</th>\n",
              "      <th>Coutcome</th>\n",
              "    </tr>\n",
              "  </thead>\n",
              "  <tbody>\n",
              "    <tr>\n",
              "      <th>0</th>\n",
              "      <td>34</td>\n",
              "      <td>blue-collar</td>\n",
              "      <td>married</td>\n",
              "      <td>secondary</td>\n",
              "      <td>no</td>\n",
              "      <td>7216</td>\n",
              "      <td>yes</td>\n",
              "      <td>no</td>\n",
              "      <td>unknown</td>\n",
              "      <td>26</td>\n",
              "      <td>may</td>\n",
              "      <td>143</td>\n",
              "      <td>2</td>\n",
              "      <td>-1</td>\n",
              "      <td>0</td>\n",
              "      <td>unknown</td>\n",
              "      <td>no</td>\n",
              "    </tr>\n",
              "    <tr>\n",
              "      <th>1</th>\n",
              "      <td>29</td>\n",
              "      <td>housemaid</td>\n",
              "      <td>married</td>\n",
              "      <td>secondary</td>\n",
              "      <td>no</td>\n",
              "      <td>823</td>\n",
              "      <td>yes</td>\n",
              "      <td>no</td>\n",
              "      <td>unknown</td>\n",
              "      <td>23</td>\n",
              "      <td>may</td>\n",
              "      <td>14</td>\n",
              "      <td>2</td>\n",
              "      <td>-1</td>\n",
              "      <td>0</td>\n",
              "      <td>unknown</td>\n",
              "      <td>no</td>\n",
              "    </tr>\n",
              "    <tr>\n",
              "      <th>2</th>\n",
              "      <td>41</td>\n",
              "      <td>blue-collar</td>\n",
              "      <td>married</td>\n",
              "      <td>primary</td>\n",
              "      <td>no</td>\n",
              "      <td>17</td>\n",
              "      <td>no</td>\n",
              "      <td>no</td>\n",
              "      <td>cellular</td>\n",
              "      <td>8</td>\n",
              "      <td>jul</td>\n",
              "      <td>117</td>\n",
              "      <td>3</td>\n",
              "      <td>-1</td>\n",
              "      <td>0</td>\n",
              "      <td>unknown</td>\n",
              "      <td>no</td>\n",
              "    </tr>\n",
              "    <tr>\n",
              "      <th>3</th>\n",
              "      <td>37</td>\n",
              "      <td>technician</td>\n",
              "      <td>married</td>\n",
              "      <td>secondary</td>\n",
              "      <td>no</td>\n",
              "      <td>729</td>\n",
              "      <td>yes</td>\n",
              "      <td>no</td>\n",
              "      <td>cellular</td>\n",
              "      <td>15</td>\n",
              "      <td>jul</td>\n",
              "      <td>115</td>\n",
              "      <td>5</td>\n",
              "      <td>-1</td>\n",
              "      <td>0</td>\n",
              "      <td>unknown</td>\n",
              "      <td>no</td>\n",
              "    </tr>\n",
              "    <tr>\n",
              "      <th>4</th>\n",
              "      <td>32</td>\n",
              "      <td>blue-collar</td>\n",
              "      <td>single</td>\n",
              "      <td>secondary</td>\n",
              "      <td>no</td>\n",
              "      <td>15341</td>\n",
              "      <td>no</td>\n",
              "      <td>no</td>\n",
              "      <td>unknown</td>\n",
              "      <td>21</td>\n",
              "      <td>may</td>\n",
              "      <td>738</td>\n",
              "      <td>3</td>\n",
              "      <td>-1</td>\n",
              "      <td>0</td>\n",
              "      <td>unknown</td>\n",
              "      <td>no</td>\n",
              "    </tr>\n",
              "  </tbody>\n",
              "</table>\n",
              "</div>"
            ],
            "text/plain": [
              "   Age          Job  Marital  Education Credit?  Balance HousingLoan  \\\n",
              "0   34  blue-collar  married  secondary      no     7216         yes   \n",
              "1   29    housemaid  married  secondary      no      823         yes   \n",
              "2   41  blue-collar  married    primary      no       17          no   \n",
              "3   37   technician  married  secondary      no      729         yes   \n",
              "4   32  blue-collar   single  secondary      no    15341          no   \n",
              "\n",
              "  PersonalLoan   Contact  LastDay LastMonth  ContactDuration  \\\n",
              "0           no   unknown       26       may              143   \n",
              "1           no   unknown       23       may               14   \n",
              "2           no  cellular        8       jul              117   \n",
              "3           no  cellular       15       jul              115   \n",
              "4           no   unknown       21       may              738   \n",
              "\n",
              "   CampaignContacts  Pdays  PreviousContacts POutcome Coutcome  \n",
              "0                 2     -1                 0  unknown       no  \n",
              "1                 2     -1                 0  unknown       no  \n",
              "2                 3     -1                 0  unknown       no  \n",
              "3                 5     -1                 0  unknown       no  \n",
              "4                 3     -1                 0  unknown       no  "
            ]
          },
          "execution_count": 53,
          "metadata": {},
          "output_type": "execute_result"
        }
      ],
      "source": [
        "df= pd.read_csv('Financial-Campaign-full.csv')#loads the csv file into a pandas dataframe\n",
        "df.head() #returns the first 5 rows"
      ]
    },
    {
      "cell_type": "markdown",
      "metadata": {
        "id": "089FjNGkhEWv"
      },
      "source": [
        "Data Exploration"
      ]
    },
    {
      "cell_type": "markdown",
      "metadata": {},
      "source": [
        "There are 10 non numeric columns that we need to consider if we want to include that in our analysis because we will need to convert them to numeric values for clustering purposes."
      ]
    },
    {
      "cell_type": "markdown",
      "metadata": {},
      "source": [
        "From the findings of the POutcome column, majority of this column has unknown values. Based on these findings, we decided that this is not a good column to include in our "
      ]
    },
    {
      "cell_type": "markdown",
      "metadata": {},
      "source": [
        "Avg age is 40.9, medium age is 39, oldest is 95, youngest is 18.\n",
        "\n",
        "This tells us xhere are alot of middle aged people starting from 30 to 60xxxxxxxxxxxxxxxt"
      ]
    },
    {
      "cell_type": "code",
      "execution_count": 64,
      "metadata": {
        "id": "3SqlsdyYgsRh"
      },
      "outputs": [
        {
          "data": {
            "image/png": "[encoded data removed]",
            "text/plain": [
              "<Figure size 1000x500 with 1 Axes>"
            ]
          },
          "metadata": {},
          "output_type": "display_data"
        }
      ],
      "source": [
        "# Age stuff\n",
        "plt.figure(figsize=(10, 5))\n",
        "plt.hist(df['Age'].values, rwidth=1, bins =77, color='green')\n",
        "plt.title('Histogram of Age Distribution')\n",
        "plt.ylabel('Frequency')\n",
        "plt.xlabel('Age')\n",
        "plt.show()"
      ]
    },
    {
      "cell_type": "markdown",
      "metadata": {},
      "source": [
        "Data Cleaning"
      ]
    },
    {
      "cell_type": "code",
      "execution_count": 67,
      "metadata": {
        "colab": {
          "base_uri": "https://localhost:8080/"
        },
        "id": "KY-ahO46gsLH",
        "outputId": "9b12e510-8afa-4794-9302-815fcc1b32a1"
      },
      "outputs": [
        {
          "name": "stdout",
          "output_type": "stream",
          "text": [
            "81.74659352327022\n"
          ]
        }
      ],
      "source": [
        "percentage_unknown = (df['POutcome'].str.contains('unknown')).sum() / len(df) * 100\n",
        "\n",
        "print(percentage_unknown)"
      ]
    },
    {
      "cell_type": "markdown",
      "metadata": {},
      "source": [
        "From the findings of the POutcome column, majority of this column has unknown values. Based on these findings, we decided that this is not a good column to include in our analysis of the financial institution"
      ]
    },
    {
      "cell_type": "code",
      "execution_count": 69,
      "metadata": {},
      "outputs": [
        {
          "data": {
            "text/plain": [
              "array(['may', 'jul', 'jun', 'mayY', 'aug', 'oct', 'nov', 'dec', 'jan',\n",
              "       'feb', 'mar', 'apr', 'sep'], dtype=object)"
            ]
          },
          "execution_count": 69,
          "metadata": {},
          "output_type": "execute_result"
        }
      ],
      "source": [
        "df['LastMonth'].unique()"
      ]
    },
    {
      "cell_type": "markdown",
      "metadata": {},
      "source": [
        "Entry #13 has an error month is labeled as mayY (drop this record or replace)"
      ]
    },
    {
      "cell_type": "code",
      "execution_count": null,
      "metadata": {},
      "outputs": [],
      "source": []
    }
  ],
  "metadata": {
    "colab": {
      "provenance": []
    },
    "kernelspec": {
      "display_name": "Python 3",
      "name": "python3"
    },
    "language_info": {
      "codemirror_mode": {
        "name": "ipython",
        "version": 3
      },
      "file_extension": ".py",
      "mimetype": "text/x-python",
      "name": "python",
      "nbconvert_exporter": "python",
      "pygments_lexer": "ipython3",
      "version": "3.10.10"
    }
  },
  "nbformat": 4,
  "nbformat_minor": 0
}
