{
  "cells": [
    {
      "cell_type": "code",
      "execution_count": 321,
      "metadata": {
        "id": "bNFpmdoGbrjy"
      },
      "outputs": [],
      "source": [
        "# Python ≥3.5 is required\n",
        "import sys\n",
        "assert sys.version_info >= (3, 5)\n",
        "\n",
        "# Scikit-Learn ≥0.20 is required\n",
        "import sklearn\n",
        "assert sklearn.__version__ >= \"0.20\"\n",
        "\n",
        "# import numpy as np\n",
        "import pandas as pd\n",
        "\n",
        "from sklearn.cluster import KMeans\n",
        "from sklearn.preprocessing import MinMaxScaler\n",
        "from sklearn.preprocessing import OneHotEncoder\n",
        "import matplotlib.pyplot as plt\n",
        "%matplotlib inline\n",
        "import seaborn as sns\n",
        "import numpy as np\n"
      ]
    },
    {
      "cell_type": "code",
      "execution_count": 319,
      "metadata": {
        "colab": {
          "base_uri": "https://localhost:8080/",
          "height": 226
        },
        "id": "C_AQSf2Jgr6o",
        "outputId": "671808a2-a114-438c-b601-e516272e36e8"
      },
      "outputs": [
        {
          "data": {
            "text/html": [
              "<div>\n",
              "<style scoped>\n",
              "    .dataframe tbody tr th:only-of-type {\n",
              "        vertical-align: middle;\n",
              "    }\n",
              "\n",
              "    .dataframe tbody tr th {\n",
              "        vertical-align: top;\n",
              "    }\n",
              "\n",
              "    .dataframe thead th {\n",
              "        text-align: right;\n",
              "    }\n",
              "</style>\n",
              "<table border=\"1\" class=\"dataframe\">\n",
              "  <thead>\n",
              "    <tr style=\"text-align: right;\">\n",
              "      <th></th>\n",
              "      <th>Age</th>\n",
              "      <th>Job</th>\n",
              "      <th>Marital</th>\n",
              "      <th>Education</th>\n",
              "      <th>Credit?</th>\n",
              "      <th>Balance</th>\n",
              "      <th>HousingLoan</th>\n",
              "      <th>PersonalLoan</th>\n",
              "      <th>Contact</th>\n",
              "      <th>LastDay</th>\n",
              "      <th>LastMonth</th>\n",
              "      <th>ContactDuration</th>\n",
              "      <th>CampaignContacts</th>\n",
              "      <th>Pdays</th>\n",
              "      <th>PreviousContacts</th>\n",
              "      <th>POutcome</th>\n",
              "      <th>Coutcome</th>\n",
              "    </tr>\n",
              "  </thead>\n",
              "  <tbody>\n",
              "    <tr>\n",
              "      <th>0</th>\n",
              "      <td>34</td>\n",
              "      <td>blue-collar</td>\n",
              "      <td>married</td>\n",
              "      <td>secondary</td>\n",
              "      <td>no</td>\n",
              "      <td>7216</td>\n",
              "      <td>yes</td>\n",
              "      <td>no</td>\n",
              "      <td>unknown</td>\n",
              "      <td>26</td>\n",
              "      <td>may</td>\n",
              "      <td>143</td>\n",
              "      <td>2</td>\n",
              "      <td>-1</td>\n",
              "      <td>0</td>\n",
              "      <td>unknown</td>\n",
              "      <td>no</td>\n",
              "    </tr>\n",
              "    <tr>\n",
              "      <th>1</th>\n",
              "      <td>29</td>\n",
              "      <td>housemaid</td>\n",
              "      <td>married</td>\n",
              "      <td>secondary</td>\n",
              "      <td>no</td>\n",
              "      <td>823</td>\n",
              "      <td>yes</td>\n",
              "      <td>no</td>\n",
              "      <td>unknown</td>\n",
              "      <td>23</td>\n",
              "      <td>may</td>\n",
              "      <td>14</td>\n",
              "      <td>2</td>\n",
              "      <td>-1</td>\n",
              "      <td>0</td>\n",
              "      <td>unknown</td>\n",
              "      <td>no</td>\n",
              "    </tr>\n",
              "    <tr>\n",
              "      <th>2</th>\n",
              "      <td>41</td>\n",
              "      <td>blue-collar</td>\n",
              "      <td>married</td>\n",
              "      <td>primary</td>\n",
              "      <td>no</td>\n",
              "      <td>17</td>\n",
              "      <td>no</td>\n",
              "      <td>no</td>\n",
              "      <td>cellular</td>\n",
              "      <td>8</td>\n",
              "      <td>jul</td>\n",
              "      <td>117</td>\n",
              "      <td>3</td>\n",
              "      <td>-1</td>\n",
              "      <td>0</td>\n",
              "      <td>unknown</td>\n",
              "      <td>no</td>\n",
              "    </tr>\n",
              "    <tr>\n",
              "      <th>3</th>\n",
              "      <td>37</td>\n",
              "      <td>technician</td>\n",
              "      <td>married</td>\n",
              "      <td>secondary</td>\n",
              "      <td>no</td>\n",
              "      <td>729</td>\n",
              "      <td>yes</td>\n",
              "      <td>no</td>\n",
              "      <td>cellular</td>\n",
              "      <td>15</td>\n",
              "      <td>jul</td>\n",
              "      <td>115</td>\n",
              "      <td>5</td>\n",
              "      <td>-1</td>\n",
              "      <td>0</td>\n",
              "      <td>unknown</td>\n",
              "      <td>no</td>\n",
              "    </tr>\n",
              "    <tr>\n",
              "      <th>4</th>\n",
              "      <td>32</td>\n",
              "      <td>blue-collar</td>\n",
              "      <td>single</td>\n",
              "      <td>secondary</td>\n",
              "      <td>no</td>\n",
              "      <td>15341</td>\n",
              "      <td>no</td>\n",
              "      <td>no</td>\n",
              "      <td>unknown</td>\n",
              "      <td>21</td>\n",
              "      <td>may</td>\n",
              "      <td>738</td>\n",
              "      <td>3</td>\n",
              "      <td>-1</td>\n",
              "      <td>0</td>\n",
              "      <td>unknown</td>\n",
              "      <td>no</td>\n",
              "    </tr>\n",
              "  </tbody>\n",
              "</table>\n",
              "</div>"
            ],
            "text/plain": [
              "   Age          Job  Marital  Education Credit?  Balance HousingLoan  \\\n",
              "0   34  blue-collar  married  secondary      no     7216         yes   \n",
              "1   29    housemaid  married  secondary      no      823         yes   \n",
              "2   41  blue-collar  married    primary      no       17          no   \n",
              "3   37   technician  married  secondary      no      729         yes   \n",
              "4   32  blue-collar   single  secondary      no    15341          no   \n",
              "\n",
              "  PersonalLoan   Contact  LastDay LastMonth  ContactDuration  \\\n",
              "0           no   unknown       26       may              143   \n",
              "1           no   unknown       23       may               14   \n",
              "2           no  cellular        8       jul              117   \n",
              "3           no  cellular       15       jul              115   \n",
              "4           no   unknown       21       may              738   \n",
              "\n",
              "   CampaignContacts  Pdays  PreviousContacts POutcome Coutcome  \n",
              "0                 2     -1                 0  unknown       no  \n",
              "1                 2     -1                 0  unknown       no  \n",
              "2                 3     -1                 0  unknown       no  \n",
              "3                 5     -1                 0  unknown       no  \n",
              "4                 3     -1                 0  unknown       no  "
            ]
          },
          "execution_count": 319,
          "metadata": {},
          "output_type": "execute_result"
        }
      ],
      "source": [
        "df= pd.read_csv('Financial-Campaign-full.csv')#loads the csv file into a pandas dataframe\n",
        "corr_df = pd.read_csv('Financial-Campaign-full.csv')\n",
        "df.head() #returns the first 5 rows"
      ]
    },
    {
      "cell_type": "markdown",
      "metadata": {
        "id": "089FjNGkhEWv"
      },
      "source": [
        "## Data Exploration"
      ]
    },
    {
      "cell_type": "markdown",
      "metadata": {},
      "source": [
        "There are 10 non numeric columns that we need to consider if we want to include that in our analysis because we will need to convert them to numeric values for clustering purposes."
      ]
    },
    {
      "cell_type": "code",
      "execution_count": 281,
      "metadata": {},
      "outputs": [
        {
          "data": {
            "text/plain": [
              "(45208, 17)"
            ]
          },
          "execution_count": 281,
          "metadata": {},
          "output_type": "execute_result"
        }
      ],
      "source": [
        "df.shape # 45000 rows 17 cols, lots of data!"
      ]
    },
    {
      "cell_type": "code",
      "execution_count": 282,
      "metadata": {},
      "outputs": [
        {
          "data": {
            "text/plain": [
              "Age                  int64\n",
              "Job                 object\n",
              "Marital             object\n",
              "Education           object\n",
              "Credit?             object\n",
              "Balance              int64\n",
              "HousingLoan         object\n",
              "PersonalLoan        object\n",
              "Contact             object\n",
              "LastDay              int64\n",
              "LastMonth           object\n",
              "ContactDuration      int64\n",
              "CampaignContacts     int64\n",
              "Pdays                int64\n",
              "PreviousContacts     int64\n",
              "POutcome            object\n",
              "Coutcome            object\n",
              "dtype: object"
            ]
          },
          "execution_count": 282,
          "metadata": {},
          "output_type": "execute_result"
        }
      ],
      "source": [
        "df.dtypes"
      ]
    },
    {
      "cell_type": "code",
      "execution_count": 320,
      "metadata": {},
      "outputs": [
        {
          "name": "stderr",
          "output_type": "stream",
          "text": [
            "C:\\Users\\PC\\AppData\\Local\\Temp\\ipykernel_4352\\132407485.py:1: FutureWarning: A value is trying to be set on a copy of a DataFrame or Series through chained assignment using an inplace method.\n",
            "The behavior will change in pandas 3.0. This inplace method will never work because the intermediate object on which we are setting values always behaves as a copy.\n",
            "\n",
            "For example, when doing 'df[col].method(value, inplace=True)', try using 'df.method({col: value}, inplace=True)' or df[col] = df[col].method(value) instead, to perform the operation inplace on the original object.\n",
            "\n",
            "\n",
            "  corr_df['Coutcome'].replace(['yes', 'no'],[0, 1], inplace=True)\n",
            "C:\\Users\\PC\\AppData\\Local\\Temp\\ipykernel_4352\\132407485.py:1: FutureWarning: Downcasting behavior in `replace` is deprecated and will be removed in a future version. To retain the old behavior, explicitly call `result.infer_objects(copy=False)`. To opt-in to the future behavior, set `pd.set_option('future.no_silent_downcasting', True)`\n",
            "  corr_df['Coutcome'].replace(['yes', 'no'],[0, 1], inplace=True)\n"
          ]
        },
        {
          "data": {
            "text/html": [
              "<div>\n",
              "<style scoped>\n",
              "    .dataframe tbody tr th:only-of-type {\n",
              "        vertical-align: middle;\n",
              "    }\n",
              "\n",
              "    .dataframe tbody tr th {\n",
              "        vertical-align: top;\n",
              "    }\n",
              "\n",
              "    .dataframe thead th {\n",
              "        text-align: right;\n",
              "    }\n",
              "</style>\n",
              "<table border=\"1\" class=\"dataframe\">\n",
              "  <thead>\n",
              "    <tr style=\"text-align: right;\">\n",
              "      <th></th>\n",
              "      <th>Age</th>\n",
              "      <th>Job</th>\n",
              "      <th>Marital</th>\n",
              "      <th>Education</th>\n",
              "      <th>Credit?</th>\n",
              "      <th>Balance</th>\n",
              "      <th>HousingLoan</th>\n",
              "      <th>PersonalLoan</th>\n",
              "      <th>Contact</th>\n",
              "      <th>LastDay</th>\n",
              "      <th>LastMonth</th>\n",
              "      <th>ContactDuration</th>\n",
              "      <th>CampaignContacts</th>\n",
              "      <th>Pdays</th>\n",
              "      <th>PreviousContacts</th>\n",
              "      <th>POutcome</th>\n",
              "      <th>Coutcome</th>\n",
              "    </tr>\n",
              "  </thead>\n",
              "  <tbody>\n",
              "    <tr>\n",
              "      <th>0</th>\n",
              "      <td>34</td>\n",
              "      <td>blue-collar</td>\n",
              "      <td>married</td>\n",
              "      <td>secondary</td>\n",
              "      <td>no</td>\n",
              "      <td>7216</td>\n",
              "      <td>yes</td>\n",
              "      <td>no</td>\n",
              "      <td>unknown</td>\n",
              "      <td>26</td>\n",
              "      <td>may</td>\n",
              "      <td>143</td>\n",
              "      <td>2</td>\n",
              "      <td>-1</td>\n",
              "      <td>0</td>\n",
              "      <td>unknown</td>\n",
              "      <td>1</td>\n",
              "    </tr>\n",
              "    <tr>\n",
              "      <th>1</th>\n",
              "      <td>29</td>\n",
              "      <td>housemaid</td>\n",
              "      <td>married</td>\n",
              "      <td>secondary</td>\n",
              "      <td>no</td>\n",
              "      <td>823</td>\n",
              "      <td>yes</td>\n",
              "      <td>no</td>\n",
              "      <td>unknown</td>\n",
              "      <td>23</td>\n",
              "      <td>may</td>\n",
              "      <td>14</td>\n",
              "      <td>2</td>\n",
              "      <td>-1</td>\n",
              "      <td>0</td>\n",
              "      <td>unknown</td>\n",
              "      <td>1</td>\n",
              "    </tr>\n",
              "    <tr>\n",
              "      <th>2</th>\n",
              "      <td>41</td>\n",
              "      <td>blue-collar</td>\n",
              "      <td>married</td>\n",
              "      <td>primary</td>\n",
              "      <td>no</td>\n",
              "      <td>17</td>\n",
              "      <td>no</td>\n",
              "      <td>no</td>\n",
              "      <td>cellular</td>\n",
              "      <td>8</td>\n",
              "      <td>jul</td>\n",
              "      <td>117</td>\n",
              "      <td>3</td>\n",
              "      <td>-1</td>\n",
              "      <td>0</td>\n",
              "      <td>unknown</td>\n",
              "      <td>1</td>\n",
              "    </tr>\n",
              "    <tr>\n",
              "      <th>3</th>\n",
              "      <td>37</td>\n",
              "      <td>technician</td>\n",
              "      <td>married</td>\n",
              "      <td>secondary</td>\n",
              "      <td>no</td>\n",
              "      <td>729</td>\n",
              "      <td>yes</td>\n",
              "      <td>no</td>\n",
              "      <td>cellular</td>\n",
              "      <td>15</td>\n",
              "      <td>jul</td>\n",
              "      <td>115</td>\n",
              "      <td>5</td>\n",
              "      <td>-1</td>\n",
              "      <td>0</td>\n",
              "      <td>unknown</td>\n",
              "      <td>1</td>\n",
              "    </tr>\n",
              "    <tr>\n",
              "      <th>4</th>\n",
              "      <td>32</td>\n",
              "      <td>blue-collar</td>\n",
              "      <td>single</td>\n",
              "      <td>secondary</td>\n",
              "      <td>no</td>\n",
              "      <td>15341</td>\n",
              "      <td>no</td>\n",
              "      <td>no</td>\n",
              "      <td>unknown</td>\n",
              "      <td>21</td>\n",
              "      <td>may</td>\n",
              "      <td>738</td>\n",
              "      <td>3</td>\n",
              "      <td>-1</td>\n",
              "      <td>0</td>\n",
              "      <td>unknown</td>\n",
              "      <td>1</td>\n",
              "    </tr>\n",
              "  </tbody>\n",
              "</table>\n",
              "</div>"
            ],
            "text/plain": [
              "   Age          Job  Marital  Education Credit?  Balance HousingLoan  \\\n",
              "0   34  blue-collar  married  secondary      no     7216         yes   \n",
              "1   29    housemaid  married  secondary      no      823         yes   \n",
              "2   41  blue-collar  married    primary      no       17          no   \n",
              "3   37   technician  married  secondary      no      729         yes   \n",
              "4   32  blue-collar   single  secondary      no    15341          no   \n",
              "\n",
              "  PersonalLoan   Contact  LastDay LastMonth  ContactDuration  \\\n",
              "0           no   unknown       26       may              143   \n",
              "1           no   unknown       23       may               14   \n",
              "2           no  cellular        8       jul              117   \n",
              "3           no  cellular       15       jul              115   \n",
              "4           no   unknown       21       may              738   \n",
              "\n",
              "   CampaignContacts  Pdays  PreviousContacts POutcome  Coutcome  \n",
              "0                 2     -1                 0  unknown         1  \n",
              "1                 2     -1                 0  unknown         1  \n",
              "2                 3     -1                 0  unknown         1  \n",
              "3                 5     -1                 0  unknown         1  \n",
              "4                 3     -1                 0  unknown         1  "
            ]
          },
          "execution_count": 320,
          "metadata": {},
          "output_type": "execute_result"
        }
      ],
      "source": [
        "corr_df['Coutcome'].replace(['yes', 'no'],[0, 1], inplace=True)\n",
        "corr_df.head()"
      ]
    },
    {
      "cell_type": "markdown",
      "metadata": {},
      "source": [
        "From the findings of the POutcome column, majority of this column has unknown values. Based on these findings, we decided that this is not a good column to include in our "
      ]
    },
    {
      "cell_type": "markdown",
      "metadata": {},
      "source": [
        "Avg age is 40.9, medium age is 39, oldest is 95, youngest is 18.\n",
        "\n",
        "This tells us here are alot of middle aged people starting from 30 to 60"
      ]
    },
    {
      "cell_type": "code",
      "execution_count": 284,
      "metadata": {
        "id": "3SqlsdyYgsRh"
      },
      "outputs": [
        {
          "data": {
            "image/png": "[encoded data removed]",
            "text/plain": [
              "<Figure size 1000x500 with 1 Axes>"
            ]
          },
          "metadata": {},
          "output_type": "display_data"
        }
      ],
      "source": [
        "# Age stuff\n",
        "plt.figure(figsize=(10, 5))\n",
        "plt.hist(df['Age'].values, rwidth=1, bins =77, color='green')\n",
        "plt.title('Histogram of Age Distribution')\n",
        "plt.ylabel('Frequency')\n",
        "plt.xlabel('Age')\n",
        "plt.show()"
      ]
    },
    {
      "cell_type": "markdown",
      "metadata": {},
      "source": [
        "The below code is creating a pie chart for all individuals that have above average balances based on their marital status. Throughout our analysis we have also noticed about 26% of all individuals are above the mean (average) balance. We are inferring that the financial institutions marketing campaign for higher balance individuals will only affect 26% of their customers."
      ]
    },
    {
      "cell_type": "code",
      "execution_count": 285,
      "metadata": {},
      "outputs": [
        {
          "data": {
            "image/png": "[encoded data removed]",
            "text/plain": [
              "<Figure size 640x480 with 1 Axes>"
            ]
          },
          "metadata": {},
          "output_type": "display_data"
        }
      ],
      "source": [
        "\n",
        "average_balance = df['Balance'].mean() \n",
        "\n",
        "above_average_bal = len(df[df['Balance'] > average_balance]) #number of people that have above average balances\n",
        "#df.describe()\n",
        "\n",
        "marital_titles = df['Marital'].value_counts().index.to_list()\n",
        "\n",
        "\n",
        "marital_above_average_bal = [] \n",
        "status_total = 0\n",
        "marital_percentage_above_average_bal = []\n",
        "\n",
        "\n",
        "for m in marital_titles: \n",
        "    status_total = df[df['Marital'] == m]\n",
        "    marital_above_average_bal.append(len(status_total[status_total['Balance'] > average_balance]))\n",
        "\n",
        "total_count = sum(marital_above_average_bal)\n",
        "for marital in marital_above_average_bal:\n",
        "    marital_percentage_above_average_bal.append(marital / total_count * 100)\n",
        "\n",
        "bar_colors = ['#FF9999', '#99CCFF', '#FF99FF']\n",
        "\n",
        "plt.pie(marital_percentage_above_average_bal,  colors=bar_colors, labels=marital_titles,autopct='%1.1f%%')\n",
        "\n",
        "plt.title('Percentage of Marital status that are above average balances')\n",
        "plt.legend(loc=\"lower right\", bbox_to_anchor=(1.42,0.7))\n",
        " \n",
        "plt.show()\n"
      ]
    },
    {
      "cell_type": "code",
      "execution_count": 286,
      "metadata": {},
      "outputs": [
        {
          "data": {
            "image/png": "[encoded data removed]",
            "text/plain": [
              "<Figure size 640x480 with 1 Axes>"
            ]
          },
          "metadata": {},
          "output_type": "display_data"
        },
        {
          "name": "stdout",
          "output_type": "stream",
          "text": [
            "[84.00442666212649, 15.9955733378735]\n"
          ]
        }
      ],
      "source": [
        "#people with above average balances\n",
        "above_average_bal = df[df['Balance'] > average_balance]\n",
        "\n",
        "# number of people that put down a term deposit vs people that did not put down a term deposit\n",
        "NoDeposit = len(above_average_bal[above_average_bal[\"Coutcome\"] =='no'])\n",
        "YesDeposit = len(above_average_bal[above_average_bal[\"Coutcome\"] =='yes'])\n",
        "\n",
        "#print(NoDeposit)\n",
        "#print(YesDeposit)\n",
        "\n",
        "\n",
        "\n",
        "\n",
        "total_cooutcome = []\n",
        "total_cooutcome.append(NoDeposit/len(above_average_bal) * 100)\n",
        "total_cooutcome.append(YesDeposit/len(above_average_bal) * 100)\n",
        "#plt.bar(above_average_bal['Coutcome'].unique(), above_average_bal[\"Coutcome\"].value_counts(), color=bar_colors, align='center', width=0.5) =\n",
        "plt.pie(total_cooutcome,  colors=[ 'tomato', 'cornflowerblue'], labels=['No', 'Yes'], autopct='%1.1f%%')\n",
        "\n",
        "\n",
        "plt.legend(loc=\"lower right\", bbox_to_anchor=(1.42,0.7))\n",
        "plt.title('Deposit Rate of people with above average balances')\n",
        "\n",
        "plt.show()\n",
        "print(total_cooutcome)"
      ]
    },
    {
      "cell_type": "markdown",
      "metadata": {},
      "source": [
        "<h1> Percentage of Individuals are above the mean (average) balance <h1>"
      ]
    },
    {
      "cell_type": "code",
      "execution_count": 287,
      "metadata": {},
      "outputs": [
        {
          "name": "stdout",
          "output_type": "stream",
          "text": [
            "25.984339055034507\n"
          ]
        }
      ],
      "source": [
        "print(total_count / len(df) * 100)"
      ]
    },
    {
      "cell_type": "code",
      "execution_count": 288,
      "metadata": {},
      "outputs": [
        {
          "data": {
            "image/png": "[encoded data removed]",
            "text/plain": [
              "<Figure size 640x480 with 1 Axes>"
            ]
          },
          "metadata": {},
          "output_type": "display_data"
        }
      ],
      "source": [
        "bar_colors = ['#a6cee3', '#ffbb78', '#98df8a', '#ff9896', '#cfa3e3']\n",
        "\n",
        "plt.bar(df['Education'].unique(), df[\"Education\"].value_counts(), color=bar_colors, align='center', width=0.5)\n",
        "\n",
        "plt.ylabel('# of people')\n",
        "plt.xlabel('Education Levels')\n",
        "plt.title('Top 5 Education')\n",
        "\n",
        "plt.show()"
      ]
    },
    {
      "cell_type": "code",
      "execution_count": 289,
      "metadata": {},
      "outputs": [
        {
          "data": {
            "image/png": "[encoded data removed]",
            "text/plain": [
              "<Figure size 640x480 with 1 Axes>"
            ]
          },
          "metadata": {},
          "output_type": "display_data"
        }
      ],
      "source": [
        "job_title = df['Job'].value_counts()[:5].index.to_list()\n",
        "\n",
        "job_counts = df['Job'].value_counts()[:5]\n",
        "\n",
        "# Convert the value counts to a NumPy array\n",
        "job_counts_array = job_counts.values\n",
        "\n",
        "#job_title = ['Blue Collar', 'House Maid', 'Technician', 'Management', 'Entrepreneur']\n",
        "\n",
        "bar_colors = ['#a6cee3', '#ffbb78', '#98df8a', '#ff9896', '#cfa3e3']\n",
        "\n",
        "plt.bar(job_title, job_counts, color=bar_colors, label=job_title, align='center', width=0.5)\n",
        "\n",
        "plt.ylabel('# of Jobs')\n",
        "plt.xlabel('Job Titles')\n",
        "plt.title('Top 5 Jobs')\n",
        "#plt.legend(title='Fruit color')\n",
        "\n",
        "plt.show()\n",
        "\n"
      ]
    },
    {
      "cell_type": "markdown",
      "metadata": {},
      "source": [
        "Bar Chart of different jobs that have credit or not "
      ]
    },
    {
      "cell_type": "markdown",
      "metadata": {},
      "source": [
        "<h2>Data Cleaning<h2>"
      ]
    },
    {
      "cell_type": "code",
      "execution_count": 290,
      "metadata": {},
      "outputs": [],
      "source": [
        "clean_df = df"
      ]
    },
    {
      "cell_type": "markdown",
      "metadata": {},
      "source": [
        "<h1>Missing values<h1>"
      ]
    },
    {
      "cell_type": "markdown",
      "metadata": {},
      "source": [
        "The first step of data cleaning would be to see if there is any values that are null, as you can see there is no null values "
      ]
    },
    {
      "cell_type": "code",
      "execution_count": 291,
      "metadata": {},
      "outputs": [
        {
          "data": {
            "text/plain": [
              "Age                 0\n",
              "Job                 0\n",
              "Marital             0\n",
              "Education           0\n",
              "Credit?             0\n",
              "Balance             0\n",
              "HousingLoan         0\n",
              "PersonalLoan        0\n",
              "Contact             0\n",
              "LastDay             0\n",
              "LastMonth           0\n",
              "ContactDuration     0\n",
              "CampaignContacts    0\n",
              "Pdays               0\n",
              "PreviousContacts    0\n",
              "POutcome            0\n",
              "Coutcome            0\n",
              "dtype: int64"
            ]
          },
          "execution_count": 291,
          "metadata": {},
          "output_type": "execute_result"
        }
      ],
      "source": [
        " #returns the number of missing values   \n",
        "clean_df.isnull().sum() "
      ]
    },
    {
      "cell_type": "markdown",
      "metadata": {},
      "source": [
        "The second step of data cleaning would be to see if there are any values that are empty"
      ]
    },
    {
      "cell_type": "code",
      "execution_count": 292,
      "metadata": {},
      "outputs": [
        {
          "data": {
            "text/plain": [
              "Age                 0\n",
              "Job                 0\n",
              "Marital             0\n",
              "Education           0\n",
              "Credit?             0\n",
              "Balance             0\n",
              "HousingLoan         0\n",
              "PersonalLoan        0\n",
              "Contact             0\n",
              "LastDay             0\n",
              "LastMonth           0\n",
              "ContactDuration     0\n",
              "CampaignContacts    0\n",
              "Pdays               0\n",
              "PreviousContacts    0\n",
              "POutcome            0\n",
              "Coutcome            0\n",
              "dtype: int64"
            ]
          },
          "execution_count": 292,
          "metadata": {},
          "output_type": "execute_result"
        }
      ],
      "source": [
        " #returns the number of missing values\n",
        "clean_df.isna().sum() "
      ]
    },
    {
      "cell_type": "markdown",
      "metadata": {},
      "source": [
        "<h1>Find all the Job names<h1>"
      ]
    },
    {
      "cell_type": "markdown",
      "metadata": {},
      "source": [
        "As you can see for Admin role there is an extra period added to the end of the data which we will remove the period from the dataset  "
      ]
    },
    {
      "cell_type": "code",
      "execution_count": 293,
      "metadata": {},
      "outputs": [
        {
          "data": {
            "text/plain": [
              "array(['blue-collar', 'housemaid', 'technician', 'management',\n",
              "       'entrepreneur', 'admin.', 'services', 'self-employed', 'retired',\n",
              "       'unemployed', 'unknown', 'student'], dtype=object)"
            ]
          },
          "execution_count": 293,
          "metadata": {},
          "output_type": "execute_result"
        }
      ],
      "source": [
        "clean_df['Job'].unique()"
      ]
    },
    {
      "cell_type": "markdown",
      "metadata": {},
      "source": [
        "<h1>Find all the month names<h1> "
      ]
    },
    {
      "cell_type": "markdown",
      "metadata": {},
      "source": [
        "As you can see for lastMonth column there is incorrectly typed Month of may which includes two Y's, we will replace the existing value back to correct format\n"
      ]
    },
    {
      "cell_type": "code",
      "execution_count": 294,
      "metadata": {},
      "outputs": [
        {
          "data": {
            "text/plain": [
              "array(['may', 'jul', 'jun', 'mayY', 'aug', 'oct', 'nov', 'dec', 'jan',\n",
              "       'feb', 'mar', 'apr', 'sep'], dtype=object)"
            ]
          },
          "execution_count": 294,
          "metadata": {},
          "output_type": "execute_result"
        }
      ],
      "source": [
        "#Find all the unique month columns \n",
        "clean_df['LastMonth'].unique()"
      ]
    },
    {
      "cell_type": "markdown",
      "metadata": {},
      "source": [
        "Entry #13 has an error month is labeled as mayY (drop this record or replace)\n",
        "jobs has unknown"
      ]
    },
    {
      "cell_type": "code",
      "execution_count": 298,
      "metadata": {},
      "outputs": [
        {
          "name": "stderr",
          "output_type": "stream",
          "text": [
            "C:\\Users\\PC\\AppData\\Local\\Temp\\ipykernel_4352\\3969752105.py:3: FutureWarning: A value is trying to be set on a copy of a DataFrame or Series through chained assignment using an inplace method.\n",
            "The behavior will change in pandas 3.0. This inplace method will never work because the intermediate object on which we are setting values always behaves as a copy.\n",
            "\n",
            "For example, when doing 'df[col].method(value, inplace=True)', try using 'df.method({col: value}, inplace=True)' or df[col] = df[col].method(value) instead, to perform the operation inplace on the original object.\n",
            "\n",
            "\n",
            "  clean_df['LastMonth'].replace('mayY', 'may', inplace=True)\n",
            "C:\\Users\\PC\\AppData\\Local\\Temp\\ipykernel_4352\\3969752105.py:6: FutureWarning: A value is trying to be set on a copy of a DataFrame or Series through chained assignment using an inplace method.\n",
            "The behavior will change in pandas 3.0. This inplace method will never work because the intermediate object on which we are setting values always behaves as a copy.\n",
            "\n",
            "For example, when doing 'df[col].method(value, inplace=True)', try using 'df.method({col: value}, inplace=True)' or df[col] = df[col].method(value) instead, to perform the operation inplace on the original object.\n",
            "\n",
            "\n",
            "  clean_df['Job'].replace('admin.', 'admin', inplace=True)\n"
          ]
        }
      ],
      "source": [
        "# We will replace the mayY with may \n",
        "\n",
        "clean_df['LastMonth'].replace('mayY', 'may', inplace=True)\n",
        "\n",
        "#We will replace the admin. with admin\n",
        "clean_df['Job'].replace('admin.', 'admin', inplace=True)\n"
      ]
    },
    {
      "cell_type": "markdown",
      "metadata": {},
      "source": [
        "Verifying that month and job columns have clean data"
      ]
    },
    {
      "cell_type": "code",
      "execution_count": 305,
      "metadata": {},
      "outputs": [
        {
          "data": {
            "text/html": [
              "<div>\n",
              "<style scoped>\n",
              "    .dataframe tbody tr th:only-of-type {\n",
              "        vertical-align: middle;\n",
              "    }\n",
              "\n",
              "    .dataframe tbody tr th {\n",
              "        vertical-align: top;\n",
              "    }\n",
              "\n",
              "    .dataframe thead th {\n",
              "        text-align: right;\n",
              "    }\n",
              "</style>\n",
              "<table border=\"1\" class=\"dataframe\">\n",
              "  <thead>\n",
              "    <tr style=\"text-align: right;\">\n",
              "      <th></th>\n",
              "      <th>Age</th>\n",
              "      <th>Job</th>\n",
              "      <th>Marital</th>\n",
              "      <th>Education</th>\n",
              "      <th>Credit?</th>\n",
              "      <th>Balance</th>\n",
              "      <th>HousingLoan</th>\n",
              "      <th>PersonalLoan</th>\n",
              "      <th>Contact</th>\n",
              "      <th>LastDay</th>\n",
              "      <th>LastMonth</th>\n",
              "      <th>ContactDuration</th>\n",
              "      <th>CampaignContacts</th>\n",
              "      <th>Pdays</th>\n",
              "      <th>PreviousContacts</th>\n",
              "      <th>POutcome</th>\n",
              "      <th>Coutcome</th>\n",
              "    </tr>\n",
              "  </thead>\n",
              "  <tbody>\n",
              "  </tbody>\n",
              "</table>\n",
              "</div>"
            ],
            "text/plain": [
              "Empty DataFrame\n",
              "Columns: [Age, Job, Marital, Education, Credit?, Balance, HousingLoan, PersonalLoan, Contact, LastDay, LastMonth, ContactDuration, CampaignContacts, Pdays, PreviousContacts, POutcome, Coutcome]\n",
              "Index: []"
            ]
          },
          "execution_count": 305,
          "metadata": {},
          "output_type": "execute_result"
        }
      ],
      "source": [
        "clean_df[(clean_df['LastMonth'] == 'mayY')]"
      ]
    },
    {
      "cell_type": "code",
      "execution_count": 306,
      "metadata": {},
      "outputs": [
        {
          "data": {
            "text/html": [
              "<div>\n",
              "<style scoped>\n",
              "    .dataframe tbody tr th:only-of-type {\n",
              "        vertical-align: middle;\n",
              "    }\n",
              "\n",
              "    .dataframe tbody tr th {\n",
              "        vertical-align: top;\n",
              "    }\n",
              "\n",
              "    .dataframe thead th {\n",
              "        text-align: right;\n",
              "    }\n",
              "</style>\n",
              "<table border=\"1\" class=\"dataframe\">\n",
              "  <thead>\n",
              "    <tr style=\"text-align: right;\">\n",
              "      <th></th>\n",
              "      <th>Age</th>\n",
              "      <th>Job</th>\n",
              "      <th>Marital</th>\n",
              "      <th>Education</th>\n",
              "      <th>Credit?</th>\n",
              "      <th>Balance</th>\n",
              "      <th>HousingLoan</th>\n",
              "      <th>PersonalLoan</th>\n",
              "      <th>Contact</th>\n",
              "      <th>LastDay</th>\n",
              "      <th>LastMonth</th>\n",
              "      <th>ContactDuration</th>\n",
              "      <th>CampaignContacts</th>\n",
              "      <th>Pdays</th>\n",
              "      <th>PreviousContacts</th>\n",
              "      <th>POutcome</th>\n",
              "      <th>Coutcome</th>\n",
              "    </tr>\n",
              "  </thead>\n",
              "  <tbody>\n",
              "  </tbody>\n",
              "</table>\n",
              "</div>"
            ],
            "text/plain": [
              "Empty DataFrame\n",
              "Columns: [Age, Job, Marital, Education, Credit?, Balance, HousingLoan, PersonalLoan, Contact, LastDay, LastMonth, ContactDuration, CampaignContacts, Pdays, PreviousContacts, POutcome, Coutcome]\n",
              "Index: []"
            ]
          },
          "execution_count": 306,
          "metadata": {},
          "output_type": "execute_result"
        }
      ],
      "source": [
        "clean_df[(clean_df['Job'] == 'admin.')]"
      ]
    },
    {
      "cell_type": "markdown",
      "metadata": {},
      "source": [
        "jobs, Education, Contact(this one may not be issue), POutcome has unknons\n",
        "Last month has a mayY value\n",
        "Pdays has a -1 value may not be issue\n",
        "LastDay has 1 value above 600"
      ]
    },
    {
      "cell_type": "markdown",
      "metadata": {},
      "source": [
        "<h1>Dropping the LastDay column <h1>"
      ]
    },
    {
      "cell_type": "markdown",
      "metadata": {},
      "source": [
        "In our findings we found that there was one outlier which had value of 628 which doesn't make sense for LastDay communciated by the financial institute. We also decided that we aren't going to be use the LastDay column in our clustering process so we will drop this column completely "
      ]
    },
    {
      "cell_type": "code",
      "execution_count": null,
      "metadata": {},
      "outputs": [],
      "source": [
        "#clean_df.drop(columns=['LastMonth'])"
      ]
    },
    {
      "cell_type": "markdown",
      "metadata": {},
      "source": [
        "Clustering Ideas\n",
        "\n",
        "best month for marketting campaign\n",
        "\n",
        "avg # contacts per month\n",
        "\n",
        "new vs old people Coutcome\n",
        "\n"
      ]
    },
    {
      "cell_type": "markdown",
      "metadata": {},
      "source": [
        "This financial institution is very new considering the number of new"
      ]
    },
    {
      "cell_type": "code",
      "execution_count": 297,
      "metadata": {},
      "outputs": [
        {
          "data": {
            "text/plain": [
              "POutcome\n",
              "unknown    36956\n",
              "failure     4901\n",
              "other       1840\n",
              "success     1511\n",
              "Name: count, dtype: int64"
            ]
          },
          "execution_count": 297,
          "metadata": {},
          "output_type": "execute_result"
        }
      ],
      "source": [
        "df['POutcome'].value_counts()\n",
        "\n",
        "#df[(df['Pdays'] == -1)]['POutcome'].value_counts()]\n",
        "\n",
        "#36951\n",
        "#failure     4901\n",
        "\n",
        "\n",
        "# New marketing campaign reached a broader audience but overal the percenetage of success was very low \n",
        "#df[(df['Pdays'] == -1)][\"Coutcome\"].value_counts()\n",
        "\n",
        "# Old \n",
        "#df[(df['Pdays'] != -1)][\"Coutcome\"].value_counts()\n",
        "\n",
        "\n",
        "#df[(df['Pdays'] == -1)][['Pdays', 'POutcome']].value_counts()"
      ]
    }
  ],
  "metadata": {
    "colab": {
      "provenance": []
    },
    "kernelspec": {
      "display_name": "Python 3",
      "name": "python3"
    },
    "language_info": {
      "codemirror_mode": {
        "name": "ipython",
        "version": 3
      },
      "file_extension": ".py",
      "mimetype": "text/x-python",
      "name": "python",
      "nbconvert_exporter": "python",
      "pygments_lexer": "ipython3",
      "version": "3.10.10"
    }
  },
  "nbformat": 4,
  "nbformat_minor": 0
}
