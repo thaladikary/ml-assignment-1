{
  "cells": [
    {
      "cell_type": "code",
      "execution_count": 173,
      "metadata": {
        "id": "bNFpmdoGbrjy"
      },
      "outputs": [],
      "source": [
        "# Python ≥3.5 is required\n",
        "import sys\n",
        "assert sys.version_info >= (3, 5)\n",
        "\n",
        "# Scikit-Learn ≥0.20 is required\n",
        "import sklearn\n",
        "assert sklearn.__version__ >= \"0.20\"\n",
        "\n",
        "# import numpy as np\n",
        "import pandas as pd\n",
        "\n",
        "from sklearn.cluster import KMeans\n",
        "from sklearn.preprocessing import MinMaxScaler\n",
        "from sklearn.preprocessing import OneHotEncoder\n",
        "import matplotlib.pyplot as plt\n",
        "%matplotlib inline\n",
        "import seaborn as sns\n",
        "import numpy as np\n"
      ]
    },
    {
      "cell_type": "code",
      "execution_count": 174,
      "metadata": {
        "colab": {
          "base_uri": "https://localhost:8080/",
          "height": 226
        },
        "id": "C_AQSf2Jgr6o",
        "outputId": "671808a2-a114-438c-b601-e516272e36e8"
      },
      "outputs": [
        {
          "data": {
            "text/html": [
              "<div>\n",
              "<style scoped>\n",
              "    .dataframe tbody tr th:only-of-type {\n",
              "        vertical-align: middle;\n",
              "    }\n",
              "\n",
              "    .dataframe tbody tr th {\n",
              "        vertical-align: top;\n",
              "    }\n",
              "\n",
              "    .dataframe thead th {\n",
              "        text-align: right;\n",
              "    }\n",
              "</style>\n",
              "<table border=\"1\" class=\"dataframe\">\n",
              "  <thead>\n",
              "    <tr style=\"text-align: right;\">\n",
              "      <th></th>\n",
              "      <th>Age</th>\n",
              "      <th>Job</th>\n",
              "      <th>Marital</th>\n",
              "      <th>Education</th>\n",
              "      <th>Credit?</th>\n",
              "      <th>Balance</th>\n",
              "      <th>HousingLoan</th>\n",
              "      <th>PersonalLoan</th>\n",
              "      <th>Contact</th>\n",
              "      <th>LastDay</th>\n",
              "      <th>LastMonth</th>\n",
              "      <th>ContactDuration</th>\n",
              "      <th>CampaignContacts</th>\n",
              "      <th>Pdays</th>\n",
              "      <th>PreviousContacts</th>\n",
              "      <th>POutcome</th>\n",
              "      <th>Coutcome</th>\n",
              "    </tr>\n",
              "  </thead>\n",
              "  <tbody>\n",
              "    <tr>\n",
              "      <th>0</th>\n",
              "      <td>34</td>\n",
              "      <td>blue-collar</td>\n",
              "      <td>married</td>\n",
              "      <td>secondary</td>\n",
              "      <td>no</td>\n",
              "      <td>7216</td>\n",
              "      <td>yes</td>\n",
              "      <td>no</td>\n",
              "      <td>unknown</td>\n",
              "      <td>26</td>\n",
              "      <td>may</td>\n",
              "      <td>143</td>\n",
              "      <td>2</td>\n",
              "      <td>-1</td>\n",
              "      <td>0</td>\n",
              "      <td>unknown</td>\n",
              "      <td>no</td>\n",
              "    </tr>\n",
              "    <tr>\n",
              "      <th>1</th>\n",
              "      <td>29</td>\n",
              "      <td>housemaid</td>\n",
              "      <td>married</td>\n",
              "      <td>secondary</td>\n",
              "      <td>no</td>\n",
              "      <td>823</td>\n",
              "      <td>yes</td>\n",
              "      <td>no</td>\n",
              "      <td>unknown</td>\n",
              "      <td>23</td>\n",
              "      <td>may</td>\n",
              "      <td>14</td>\n",
              "      <td>2</td>\n",
              "      <td>-1</td>\n",
              "      <td>0</td>\n",
              "      <td>unknown</td>\n",
              "      <td>no</td>\n",
              "    </tr>\n",
              "    <tr>\n",
              "      <th>2</th>\n",
              "      <td>41</td>\n",
              "      <td>blue-collar</td>\n",
              "      <td>married</td>\n",
              "      <td>primary</td>\n",
              "      <td>no</td>\n",
              "      <td>17</td>\n",
              "      <td>no</td>\n",
              "      <td>no</td>\n",
              "      <td>cellular</td>\n",
              "      <td>8</td>\n",
              "      <td>jul</td>\n",
              "      <td>117</td>\n",
              "      <td>3</td>\n",
              "      <td>-1</td>\n",
              "      <td>0</td>\n",
              "      <td>unknown</td>\n",
              "      <td>no</td>\n",
              "    </tr>\n",
              "    <tr>\n",
              "      <th>3</th>\n",
              "      <td>37</td>\n",
              "      <td>technician</td>\n",
              "      <td>married</td>\n",
              "      <td>secondary</td>\n",
              "      <td>no</td>\n",
              "      <td>729</td>\n",
              "      <td>yes</td>\n",
              "      <td>no</td>\n",
              "      <td>cellular</td>\n",
              "      <td>15</td>\n",
              "      <td>jul</td>\n",
              "      <td>115</td>\n",
              "      <td>5</td>\n",
              "      <td>-1</td>\n",
              "      <td>0</td>\n",
              "      <td>unknown</td>\n",
              "      <td>no</td>\n",
              "    </tr>\n",
              "    <tr>\n",
              "      <th>4</th>\n",
              "      <td>32</td>\n",
              "      <td>blue-collar</td>\n",
              "      <td>single</td>\n",
              "      <td>secondary</td>\n",
              "      <td>no</td>\n",
              "      <td>15341</td>\n",
              "      <td>no</td>\n",
              "      <td>no</td>\n",
              "      <td>unknown</td>\n",
              "      <td>21</td>\n",
              "      <td>may</td>\n",
              "      <td>738</td>\n",
              "      <td>3</td>\n",
              "      <td>-1</td>\n",
              "      <td>0</td>\n",
              "      <td>unknown</td>\n",
              "      <td>no</td>\n",
              "    </tr>\n",
              "  </tbody>\n",
              "</table>\n",
              "</div>"
            ],
            "text/plain": [
              "   Age          Job  Marital  Education Credit?  Balance HousingLoan  \\\n",
              "0   34  blue-collar  married  secondary      no     7216         yes   \n",
              "1   29    housemaid  married  secondary      no      823         yes   \n",
              "2   41  blue-collar  married    primary      no       17          no   \n",
              "3   37   technician  married  secondary      no      729         yes   \n",
              "4   32  blue-collar   single  secondary      no    15341          no   \n",
              "\n",
              "  PersonalLoan   Contact  LastDay LastMonth  ContactDuration  \\\n",
              "0           no   unknown       26       may              143   \n",
              "1           no   unknown       23       may               14   \n",
              "2           no  cellular        8       jul              117   \n",
              "3           no  cellular       15       jul              115   \n",
              "4           no   unknown       21       may              738   \n",
              "\n",
              "   CampaignContacts  Pdays  PreviousContacts POutcome Coutcome  \n",
              "0                 2     -1                 0  unknown       no  \n",
              "1                 2     -1                 0  unknown       no  \n",
              "2                 3     -1                 0  unknown       no  \n",
              "3                 5     -1                 0  unknown       no  \n",
              "4                 3     -1                 0  unknown       no  "
            ]
          },
          "execution_count": 174,
          "metadata": {},
          "output_type": "execute_result"
        }
      ],
      "source": [
        "df= pd.read_csv('Financial-Campaign-full.csv')#loads the csv file into a pandas dataframe\n",
        "df.head() #returns the first 5 rows"
      ]
    },
    {
      "cell_type": "markdown",
      "metadata": {
        "id": "089FjNGkhEWv"
      },
      "source": [
        "## Data Exploration"
      ]
    },
    {
      "cell_type": "markdown",
      "metadata": {},
      "source": [
        "There are 10 non numeric columns that we need to consider if we want to include that in our analysis because we will need to convert them to numeric values for clustering purposes."
      ]
    },
    {
      "cell_type": "code",
      "execution_count": 175,
      "metadata": {},
      "outputs": [
        {
          "data": {
            "text/plain": [
              "LastMonth\n",
              "may     13764\n",
              "jul      6894\n",
              "aug      6247\n",
              "jun      5340\n",
              "nov      3970\n",
              "apr      2932\n",
              "feb      2649\n",
              "jan      1403\n",
              "oct       738\n",
              "sep       579\n",
              "mar       477\n",
              "dec       214\n",
              "mayY        1\n",
              "Name: count, dtype: int64"
            ]
          },
          "execution_count": 175,
          "metadata": {},
          "output_type": "execute_result"
        }
      ],
      "source": [
        "df.shape # 45000 rows 17 cols, lots of data!\n",
        "df.LastMonth.value_counts()"
      ]
    },
    {
      "cell_type": "code",
      "execution_count": 176,
      "metadata": {},
      "outputs": [
        {
          "data": {
            "text/plain": [
              "Age                  int64\n",
              "Job                 object\n",
              "Marital             object\n",
              "Education           object\n",
              "Credit?             object\n",
              "Balance              int64\n",
              "HousingLoan         object\n",
              "PersonalLoan        object\n",
              "Contact             object\n",
              "LastDay              int64\n",
              "LastMonth           object\n",
              "ContactDuration      int64\n",
              "CampaignContacts     int64\n",
              "Pdays                int64\n",
              "PreviousContacts     int64\n",
              "POutcome            object\n",
              "Coutcome            object\n",
              "dtype: object"
            ]
          },
          "execution_count": 176,
          "metadata": {},
          "output_type": "execute_result"
        }
      ],
      "source": [
        "df.dtypes # lots of numbers and strings"
      ]
    },
    {
      "cell_type": "code",
      "execution_count": 177,
      "metadata": {},
      "outputs": [
        {
          "name": "stderr",
          "output_type": "stream",
          "text": [
            "C:\\Users\\PC\\AppData\\Local\\Temp\\ipykernel_372\\553768545.py:3: FutureWarning: A value is trying to be set on a copy of a DataFrame or Series through chained assignment using an inplace method.\n",
            "The behavior will change in pandas 3.0. This inplace method will never work because the intermediate object on which we are setting values always behaves as a copy.\n",
            "\n",
            "For example, when doing 'df[col].method(value, inplace=True)', try using 'df.method({col: value}, inplace=True)' or df[col] = df[col].method(value) instead, to perform the operation inplace on the original object.\n",
            "\n",
            "\n",
            "  corr_df['Coutcome'].replace(['yes', 'no'],[1, 0], inplace=True)\n",
            "C:\\Users\\PC\\AppData\\Local\\Temp\\ipykernel_372\\553768545.py:3: FutureWarning: Downcasting behavior in `replace` is deprecated and will be removed in a future version. To retain the old behavior, explicitly call `result.infer_objects(copy=False)`. To opt-in to the future behavior, set `pd.set_option('future.no_silent_downcasting', True)`\n",
            "  corr_df['Coutcome'].replace(['yes', 'no'],[1, 0], inplace=True)\n",
            "C:\\Users\\PC\\AppData\\Local\\Temp\\ipykernel_372\\553768545.py:4: FutureWarning: A value is trying to be set on a copy of a DataFrame or Series through chained assignment using an inplace method.\n",
            "The behavior will change in pandas 3.0. This inplace method will never work because the intermediate object on which we are setting values always behaves as a copy.\n",
            "\n",
            "For example, when doing 'df[col].method(value, inplace=True)', try using 'df.method({col: value}, inplace=True)' or df[col] = df[col].method(value) instead, to perform the operation inplace on the original object.\n",
            "\n",
            "\n",
            "  corr_df['PersonalLoan'].replace(['yes', 'no'],[1, 0], inplace=True)\n",
            "C:\\Users\\PC\\AppData\\Local\\Temp\\ipykernel_372\\553768545.py:4: FutureWarning: Downcasting behavior in `replace` is deprecated and will be removed in a future version. To retain the old behavior, explicitly call `result.infer_objects(copy=False)`. To opt-in to the future behavior, set `pd.set_option('future.no_silent_downcasting', True)`\n",
            "  corr_df['PersonalLoan'].replace(['yes', 'no'],[1, 0], inplace=True)\n",
            "C:\\Users\\PC\\AppData\\Local\\Temp\\ipykernel_372\\553768545.py:5: FutureWarning: A value is trying to be set on a copy of a DataFrame or Series through chained assignment using an inplace method.\n",
            "The behavior will change in pandas 3.0. This inplace method will never work because the intermediate object on which we are setting values always behaves as a copy.\n",
            "\n",
            "For example, when doing 'df[col].method(value, inplace=True)', try using 'df.method({col: value}, inplace=True)' or df[col] = df[col].method(value) instead, to perform the operation inplace on the original object.\n",
            "\n",
            "\n",
            "  corr_df['HousingLoan'].replace(['yes', 'no'],[1, 0], inplace=True)\n",
            "C:\\Users\\PC\\AppData\\Local\\Temp\\ipykernel_372\\553768545.py:5: FutureWarning: Downcasting behavior in `replace` is deprecated and will be removed in a future version. To retain the old behavior, explicitly call `result.infer_objects(copy=False)`. To opt-in to the future behavior, set `pd.set_option('future.no_silent_downcasting', True)`\n",
            "  corr_df['HousingLoan'].replace(['yes', 'no'],[1, 0], inplace=True)\n",
            "C:\\Users\\PC\\AppData\\Local\\Temp\\ipykernel_372\\553768545.py:6: FutureWarning: A value is trying to be set on a copy of a DataFrame or Series through chained assignment using an inplace method.\n",
            "The behavior will change in pandas 3.0. This inplace method will never work because the intermediate object on which we are setting values always behaves as a copy.\n",
            "\n",
            "For example, when doing 'df[col].method(value, inplace=True)', try using 'df.method({col: value}, inplace=True)' or df[col] = df[col].method(value) instead, to perform the operation inplace on the original object.\n",
            "\n",
            "\n",
            "  corr_df['Credit?'].replace(['yes', 'no'],[1, 0], inplace=True)\n",
            "C:\\Users\\PC\\AppData\\Local\\Temp\\ipykernel_372\\553768545.py:6: FutureWarning: Downcasting behavior in `replace` is deprecated and will be removed in a future version. To retain the old behavior, explicitly call `result.infer_objects(copy=False)`. To opt-in to the future behavior, set `pd.set_option('future.no_silent_downcasting', True)`\n",
            "  corr_df['Credit?'].replace(['yes', 'no'],[1, 0], inplace=True)\n",
            "C:\\Users\\PC\\AppData\\Local\\Temp\\ipykernel_372\\553768545.py:7: FutureWarning: A value is trying to be set on a copy of a DataFrame or Series through chained assignment using an inplace method.\n",
            "The behavior will change in pandas 3.0. This inplace method will never work because the intermediate object on which we are setting values always behaves as a copy.\n",
            "\n",
            "For example, when doing 'df[col].method(value, inplace=True)', try using 'df.method({col: value}, inplace=True)' or df[col] = df[col].method(value) instead, to perform the operation inplace on the original object.\n",
            "\n",
            "\n",
            "  corr_df['Education'].replace(['tertiary', 'secondary', 'primary', 'unknown'],[3, 2, 1, 0], inplace=True)\n",
            "C:\\Users\\PC\\AppData\\Local\\Temp\\ipykernel_372\\553768545.py:7: FutureWarning: Downcasting behavior in `replace` is deprecated and will be removed in a future version. To retain the old behavior, explicitly call `result.infer_objects(copy=False)`. To opt-in to the future behavior, set `pd.set_option('future.no_silent_downcasting', True)`\n",
            "  corr_df['Education'].replace(['tertiary', 'secondary', 'primary', 'unknown'],[3, 2, 1, 0], inplace=True)\n",
            "C:\\Users\\PC\\AppData\\Local\\Temp\\ipykernel_372\\553768545.py:8: FutureWarning: A value is trying to be set on a copy of a DataFrame or Series through chained assignment using an inplace method.\n",
            "The behavior will change in pandas 3.0. This inplace method will never work because the intermediate object on which we are setting values always behaves as a copy.\n",
            "\n",
            "For example, when doing 'df[col].method(value, inplace=True)', try using 'df.method({col: value}, inplace=True)' or df[col] = df[col].method(value) instead, to perform the operation inplace on the original object.\n",
            "\n",
            "\n",
            "  corr_df['POutcome'].replace(['success', 'failure', 'other', 'unknown'],[1, -1, 0, 0], inplace=True)\n",
            "C:\\Users\\PC\\AppData\\Local\\Temp\\ipykernel_372\\553768545.py:8: FutureWarning: Downcasting behavior in `replace` is deprecated and will be removed in a future version. To retain the old behavior, explicitly call `result.infer_objects(copy=False)`. To opt-in to the future behavior, set `pd.set_option('future.no_silent_downcasting', True)`\n",
            "  corr_df['POutcome'].replace(['success', 'failure', 'other', 'unknown'],[1, -1, 0, 0], inplace=True)\n",
            "C:\\Users\\PC\\AppData\\Local\\Temp\\ipykernel_372\\553768545.py:9: FutureWarning: A value is trying to be set on a copy of a DataFrame or Series through chained assignment using an inplace method.\n",
            "The behavior will change in pandas 3.0. This inplace method will never work because the intermediate object on which we are setting values always behaves as a copy.\n",
            "\n",
            "For example, when doing 'df[col].method(value, inplace=True)', try using 'df.method({col: value}, inplace=True)' or df[col] = df[col].method(value) instead, to perform the operation inplace on the original object.\n",
            "\n",
            "\n",
            "  corr_df['Marital'].replace(['married', 'single', 'divorced'],[1, 0, 0], inplace=True)\n",
            "C:\\Users\\PC\\AppData\\Local\\Temp\\ipykernel_372\\553768545.py:9: FutureWarning: Downcasting behavior in `replace` is deprecated and will be removed in a future version. To retain the old behavior, explicitly call `result.infer_objects(copy=False)`. To opt-in to the future behavior, set `pd.set_option('future.no_silent_downcasting', True)`\n",
            "  corr_df['Marital'].replace(['married', 'single', 'divorced'],[1, 0, 0], inplace=True)\n",
            "C:\\Users\\PC\\AppData\\Local\\Temp\\ipykernel_372\\553768545.py:10: FutureWarning: A value is trying to be set on a copy of a DataFrame or Series through chained assignment using an inplace method.\n",
            "The behavior will change in pandas 3.0. This inplace method will never work because the intermediate object on which we are setting values always behaves as a copy.\n",
            "\n",
            "For example, when doing 'df[col].method(value, inplace=True)', try using 'df.method({col: value}, inplace=True)' or df[col] = df[col].method(value) instead, to perform the operation inplace on the original object.\n",
            "\n",
            "\n",
            "  corr_df['Contact'].replace(['cellular', 'telephone', 'unknown'],[1, -1, 0], inplace=True) # pos cor means more likely to use cell negitive more likely to use landline\n",
            "C:\\Users\\PC\\AppData\\Local\\Temp\\ipykernel_372\\553768545.py:10: FutureWarning: Downcasting behavior in `replace` is deprecated and will be removed in a future version. To retain the old behavior, explicitly call `result.infer_objects(copy=False)`. To opt-in to the future behavior, set `pd.set_option('future.no_silent_downcasting', True)`\n",
            "  corr_df['Contact'].replace(['cellular', 'telephone', 'unknown'],[1, -1, 0], inplace=True) # pos cor means more likely to use cell negitive more likely to use landline\n"
          ]
        }
      ],
      "source": [
        "# this is just crude numberization so i can visualize the data\n",
        "corr_df = pd.read_csv('Financial-Campaign-full.csv')\n",
        "corr_df['Coutcome'].replace(['yes', 'no'],[1, 0], inplace=True)\n",
        "corr_df['PersonalLoan'].replace(['yes', 'no'],[1, 0], inplace=True)\n",
        "corr_df['HousingLoan'].replace(['yes', 'no'],[1, 0], inplace=True)\n",
        "corr_df['Credit?'].replace(['yes', 'no'],[1, 0], inplace=True)\n",
        "corr_df['Education'].replace(['tertiary', 'secondary', 'primary', 'unknown'],[3, 2, 1, 0], inplace=True)\n",
        "corr_df['POutcome'].replace(['success', 'failure', 'other', 'unknown'],[1, -1, 0, 0], inplace=True)\n",
        "corr_df['Marital'].replace(['married', 'single', 'divorced'],[1, 0, 0], inplace=True)\n",
        "corr_df['Contact'].replace(['cellular', 'telephone', 'unknown'],[1, -1, 0], inplace=True) # pos cor means more likely to use cell negitive more likely to use landline\n",
        "# note therer are alot of -1s for Pdays so keep that in mind for pday coralations"
      ]
    },
    {
      "cell_type": "code",
      "execution_count": 178,
      "metadata": {},
      "outputs": [
        {
          "data": {
            "text/html": [
              "<div>\n",
              "<style scoped>\n",
              "    .dataframe tbody tr th:only-of-type {\n",
              "        vertical-align: middle;\n",
              "    }\n",
              "\n",
              "    .dataframe tbody tr th {\n",
              "        vertical-align: top;\n",
              "    }\n",
              "\n",
              "    .dataframe thead th {\n",
              "        text-align: right;\n",
              "    }\n",
              "</style>\n",
              "<table border=\"1\" class=\"dataframe\">\n",
              "  <thead>\n",
              "    <tr style=\"text-align: right;\">\n",
              "      <th></th>\n",
              "      <th>Age</th>\n",
              "      <th>Marital</th>\n",
              "      <th>Education</th>\n",
              "      <th>Credit?</th>\n",
              "      <th>Balance</th>\n",
              "      <th>HousingLoan</th>\n",
              "      <th>PersonalLoan</th>\n",
              "      <th>Contact</th>\n",
              "      <th>LastDay</th>\n",
              "      <th>ContactDuration</th>\n",
              "      <th>CampaignContacts</th>\n",
              "      <th>Pdays</th>\n",
              "      <th>PreviousContacts</th>\n",
              "      <th>POutcome</th>\n",
              "      <th>Coutcome</th>\n",
              "    </tr>\n",
              "  </thead>\n",
              "  <tbody>\n",
              "    <tr>\n",
              "      <th>Age</th>\n",
              "      <td>1.000000</td>\n",
              "      <td>0.286206</td>\n",
              "      <td>-0.173553</td>\n",
              "      <td>-0.017867</td>\n",
              "      <td>0.097810</td>\n",
              "      <td>-0.185584</td>\n",
              "      <td>-0.015614</td>\n",
              "      <td>-0.122098</td>\n",
              "      <td>-0.011131</td>\n",
              "      <td>-0.004661</td>\n",
              "      <td>0.004772</td>\n",
              "      <td>-0.023720</td>\n",
              "      <td>0.001313</td>\n",
              "      <td>0.021434</td>\n",
              "      <td>0.025193</td>\n",
              "    </tr>\n",
              "    <tr>\n",
              "      <th>Marital</th>\n",
              "      <td>0.286206</td>\n",
              "      <td>1.000000</td>\n",
              "      <td>-0.126187</td>\n",
              "      <td>-0.014453</td>\n",
              "      <td>0.025721</td>\n",
              "      <td>0.017670</td>\n",
              "      <td>0.036930</td>\n",
              "      <td>-0.053751</td>\n",
              "      <td>0.004870</td>\n",
              "      <td>-0.022682</td>\n",
              "      <td>0.031380</td>\n",
              "      <td>-0.027579</td>\n",
              "      <td>-0.012677</td>\n",
              "      <td>-0.005208</td>\n",
              "      <td>-0.060242</td>\n",
              "    </tr>\n",
              "    <tr>\n",
              "      <th>Education</th>\n",
              "      <td>-0.173553</td>\n",
              "      <td>-0.126187</td>\n",
              "      <td>1.000000</td>\n",
              "      <td>-0.009040</td>\n",
              "      <td>0.050577</td>\n",
              "      <td>-0.038609</td>\n",
              "      <td>0.004293</td>\n",
              "      <td>0.156952</td>\n",
              "      <td>0.020310</td>\n",
              "      <td>0.002599</td>\n",
              "      <td>0.000195</td>\n",
              "      <td>0.007078</td>\n",
              "      <td>0.025288</td>\n",
              "      <td>0.002866</td>\n",
              "      <td>0.051332</td>\n",
              "    </tr>\n",
              "    <tr>\n",
              "      <th>Credit?</th>\n",
              "      <td>-0.017867</td>\n",
              "      <td>-0.014453</td>\n",
              "      <td>-0.009040</td>\n",
              "      <td>1.000000</td>\n",
              "      <td>-0.066747</td>\n",
              "      <td>-0.006023</td>\n",
              "      <td>0.077231</td>\n",
              "      <td>-0.000965</td>\n",
              "      <td>0.008700</td>\n",
              "      <td>-0.010022</td>\n",
              "      <td>0.016820</td>\n",
              "      <td>-0.029983</td>\n",
              "      <td>-0.018332</td>\n",
              "      <td>0.010863</td>\n",
              "      <td>-0.022422</td>\n",
              "    </tr>\n",
              "    <tr>\n",
              "      <th>Balance</th>\n",
              "      <td>0.097810</td>\n",
              "      <td>0.025721</td>\n",
              "      <td>0.050577</td>\n",
              "      <td>-0.066747</td>\n",
              "      <td>1.000000</td>\n",
              "      <td>-0.068775</td>\n",
              "      <td>-0.084358</td>\n",
              "      <td>-0.002860</td>\n",
              "      <td>0.003683</td>\n",
              "      <td>0.021564</td>\n",
              "      <td>-0.014582</td>\n",
              "      <td>0.003429</td>\n",
              "      <td>0.016670</td>\n",
              "      <td>0.007178</td>\n",
              "      <td>0.052833</td>\n",
              "    </tr>\n",
              "    <tr>\n",
              "      <th>HousingLoan</th>\n",
              "      <td>-0.185584</td>\n",
              "      <td>0.017670</td>\n",
              "      <td>-0.038609</td>\n",
              "      <td>-0.006023</td>\n",
              "      <td>-0.068775</td>\n",
              "      <td>1.000000</td>\n",
              "      <td>0.041331</td>\n",
              "      <td>-0.089806</td>\n",
              "      <td>-0.025065</td>\n",
              "      <td>0.005040</td>\n",
              "      <td>-0.023602</td>\n",
              "      <td>0.124189</td>\n",
              "      <td>0.037081</td>\n",
              "      <td>-0.134464</td>\n",
              "      <td>-0.139172</td>\n",
              "    </tr>\n",
              "    <tr>\n",
              "      <th>PersonalLoan</th>\n",
              "      <td>-0.015614</td>\n",
              "      <td>0.036930</td>\n",
              "      <td>0.004293</td>\n",
              "      <td>0.077231</td>\n",
              "      <td>-0.084358</td>\n",
              "      <td>0.041331</td>\n",
              "      <td>1.000000</td>\n",
              "      <td>0.015953</td>\n",
              "      <td>0.010082</td>\n",
              "      <td>-0.012414</td>\n",
              "      <td>0.009976</td>\n",
              "      <td>-0.022766</td>\n",
              "      <td>-0.011051</td>\n",
              "      <td>-0.024311</td>\n",
              "      <td>-0.068196</td>\n",
              "    </tr>\n",
              "    <tr>\n",
              "      <th>Contact</th>\n",
              "      <td>-0.122098</td>\n",
              "      <td>-0.053751</td>\n",
              "      <td>0.156952</td>\n",
              "      <td>-0.000965</td>\n",
              "      <td>-0.002860</td>\n",
              "      <td>-0.089806</td>\n",
              "      <td>0.015953</td>\n",
              "      <td>1.000000</td>\n",
              "      <td>0.004500</td>\n",
              "      <td>0.029375</td>\n",
              "      <td>-0.046984</td>\n",
              "      <td>0.170648</td>\n",
              "      <td>0.091907</td>\n",
              "      <td>-0.092323</td>\n",
              "      <td>0.100815</td>\n",
              "    </tr>\n",
              "    <tr>\n",
              "      <th>LastDay</th>\n",
              "      <td>-0.011131</td>\n",
              "      <td>0.004870</td>\n",
              "      <td>0.020310</td>\n",
              "      <td>0.008700</td>\n",
              "      <td>0.003683</td>\n",
              "      <td>-0.025065</td>\n",
              "      <td>0.010082</td>\n",
              "      <td>0.004500</td>\n",
              "      <td>1.000000</td>\n",
              "      <td>-0.029757</td>\n",
              "      <td>0.152705</td>\n",
              "      <td>-0.088560</td>\n",
              "      <td>-0.049254</td>\n",
              "      <td>0.041048</td>\n",
              "      <td>-0.027345</td>\n",
              "    </tr>\n",
              "    <tr>\n",
              "      <th>ContactDuration</th>\n",
              "      <td>-0.004661</td>\n",
              "      <td>-0.022682</td>\n",
              "      <td>0.002599</td>\n",
              "      <td>-0.010022</td>\n",
              "      <td>0.021564</td>\n",
              "      <td>0.005040</td>\n",
              "      <td>-0.012414</td>\n",
              "      <td>0.029375</td>\n",
              "      <td>-0.029757</td>\n",
              "      <td>1.000000</td>\n",
              "      <td>-0.084568</td>\n",
              "      <td>-0.001566</td>\n",
              "      <td>0.001202</td>\n",
              "      <td>0.036588</td>\n",
              "      <td>0.394536</td>\n",
              "    </tr>\n",
              "    <tr>\n",
              "      <th>CampaignContacts</th>\n",
              "      <td>0.004772</td>\n",
              "      <td>0.031380</td>\n",
              "      <td>0.000195</td>\n",
              "      <td>0.016820</td>\n",
              "      <td>-0.014582</td>\n",
              "      <td>-0.023602</td>\n",
              "      <td>0.009976</td>\n",
              "      <td>-0.046984</td>\n",
              "      <td>0.152705</td>\n",
              "      <td>-0.084568</td>\n",
              "      <td>1.000000</td>\n",
              "      <td>-0.088632</td>\n",
              "      <td>-0.032858</td>\n",
              "      <td>0.046246</td>\n",
              "      <td>-0.073176</td>\n",
              "    </tr>\n",
              "    <tr>\n",
              "      <th>Pdays</th>\n",
              "      <td>-0.023720</td>\n",
              "      <td>-0.027579</td>\n",
              "      <td>0.007078</td>\n",
              "      <td>-0.029983</td>\n",
              "      <td>0.003429</td>\n",
              "      <td>0.124189</td>\n",
              "      <td>-0.022766</td>\n",
              "      <td>0.170648</td>\n",
              "      <td>-0.088560</td>\n",
              "      <td>-0.001566</td>\n",
              "      <td>-0.088632</td>\n",
              "      <td>1.000000</td>\n",
              "      <td>0.454816</td>\n",
              "      <td>-0.479257</td>\n",
              "      <td>0.103613</td>\n",
              "    </tr>\n",
              "    <tr>\n",
              "      <th>PreviousContacts</th>\n",
              "      <td>0.001313</td>\n",
              "      <td>-0.012677</td>\n",
              "      <td>0.025288</td>\n",
              "      <td>-0.018332</td>\n",
              "      <td>0.016670</td>\n",
              "      <td>0.037081</td>\n",
              "      <td>-0.011051</td>\n",
              "      <td>0.091907</td>\n",
              "      <td>-0.049254</td>\n",
              "      <td>0.001202</td>\n",
              "      <td>-0.032858</td>\n",
              "      <td>0.454816</td>\n",
              "      <td>1.000000</td>\n",
              "      <td>-0.197266</td>\n",
              "      <td>0.093230</td>\n",
              "    </tr>\n",
              "    <tr>\n",
              "      <th>POutcome</th>\n",
              "      <td>0.021434</td>\n",
              "      <td>-0.005208</td>\n",
              "      <td>0.002866</td>\n",
              "      <td>0.010863</td>\n",
              "      <td>0.007178</td>\n",
              "      <td>-0.134464</td>\n",
              "      <td>-0.024311</td>\n",
              "      <td>-0.092323</td>\n",
              "      <td>0.041048</td>\n",
              "      <td>0.036588</td>\n",
              "      <td>0.046246</td>\n",
              "      <td>-0.479257</td>\n",
              "      <td>-0.197266</td>\n",
              "      <td>1.000000</td>\n",
              "      <td>0.141087</td>\n",
              "    </tr>\n",
              "    <tr>\n",
              "      <th>Coutcome</th>\n",
              "      <td>0.025193</td>\n",
              "      <td>-0.060242</td>\n",
              "      <td>0.051332</td>\n",
              "      <td>-0.022422</td>\n",
              "      <td>0.052833</td>\n",
              "      <td>-0.139172</td>\n",
              "      <td>-0.068196</td>\n",
              "      <td>0.100815</td>\n",
              "      <td>-0.027345</td>\n",
              "      <td>0.394536</td>\n",
              "      <td>-0.073176</td>\n",
              "      <td>0.103613</td>\n",
              "      <td>0.093230</td>\n",
              "      <td>0.141087</td>\n",
              "      <td>1.000000</td>\n",
              "    </tr>\n",
              "  </tbody>\n",
              "</table>\n",
              "</div>"
            ],
            "text/plain": [
              "                       Age   Marital  Education   Credit?   Balance  \\\n",
              "Age               1.000000  0.286206  -0.173553 -0.017867  0.097810   \n",
              "Marital           0.286206  1.000000  -0.126187 -0.014453  0.025721   \n",
              "Education        -0.173553 -0.126187   1.000000 -0.009040  0.050577   \n",
              "Credit?          -0.017867 -0.014453  -0.009040  1.000000 -0.066747   \n",
              "Balance           0.097810  0.025721   0.050577 -0.066747  1.000000   \n",
              "HousingLoan      -0.185584  0.017670  -0.038609 -0.006023 -0.068775   \n",
              "PersonalLoan     -0.015614  0.036930   0.004293  0.077231 -0.084358   \n",
              "Contact          -0.122098 -0.053751   0.156952 -0.000965 -0.002860   \n",
              "LastDay          -0.011131  0.004870   0.020310  0.008700  0.003683   \n",
              "ContactDuration  -0.004661 -0.022682   0.002599 -0.010022  0.021564   \n",
              "CampaignContacts  0.004772  0.031380   0.000195  0.016820 -0.014582   \n",
              "Pdays            -0.023720 -0.027579   0.007078 -0.029983  0.003429   \n",
              "PreviousContacts  0.001313 -0.012677   0.025288 -0.018332  0.016670   \n",
              "POutcome          0.021434 -0.005208   0.002866  0.010863  0.007178   \n",
              "Coutcome          0.025193 -0.060242   0.051332 -0.022422  0.052833   \n",
              "\n",
              "                  HousingLoan  PersonalLoan   Contact   LastDay  \\\n",
              "Age                 -0.185584     -0.015614 -0.122098 -0.011131   \n",
              "Marital              0.017670      0.036930 -0.053751  0.004870   \n",
              "Education           -0.038609      0.004293  0.156952  0.020310   \n",
              "Credit?             -0.006023      0.077231 -0.000965  0.008700   \n",
              "Balance             -0.068775     -0.084358 -0.002860  0.003683   \n",
              "HousingLoan          1.000000      0.041331 -0.089806 -0.025065   \n",
              "PersonalLoan         0.041331      1.000000  0.015953  0.010082   \n",
              "Contact             -0.089806      0.015953  1.000000  0.004500   \n",
              "LastDay             -0.025065      0.010082  0.004500  1.000000   \n",
              "ContactDuration      0.005040     -0.012414  0.029375 -0.029757   \n",
              "CampaignContacts    -0.023602      0.009976 -0.046984  0.152705   \n",
              "Pdays                0.124189     -0.022766  0.170648 -0.088560   \n",
              "PreviousContacts     0.037081     -0.011051  0.091907 -0.049254   \n",
              "POutcome            -0.134464     -0.024311 -0.092323  0.041048   \n",
              "Coutcome            -0.139172     -0.068196  0.100815 -0.027345   \n",
              "\n",
              "                  ContactDuration  CampaignContacts     Pdays  \\\n",
              "Age                     -0.004661          0.004772 -0.023720   \n",
              "Marital                 -0.022682          0.031380 -0.027579   \n",
              "Education                0.002599          0.000195  0.007078   \n",
              "Credit?                 -0.010022          0.016820 -0.029983   \n",
              "Balance                  0.021564         -0.014582  0.003429   \n",
              "HousingLoan              0.005040         -0.023602  0.124189   \n",
              "PersonalLoan            -0.012414          0.009976 -0.022766   \n",
              "Contact                  0.029375         -0.046984  0.170648   \n",
              "LastDay                 -0.029757          0.152705 -0.088560   \n",
              "ContactDuration          1.000000         -0.084568 -0.001566   \n",
              "CampaignContacts        -0.084568          1.000000 -0.088632   \n",
              "Pdays                   -0.001566         -0.088632  1.000000   \n",
              "PreviousContacts         0.001202         -0.032858  0.454816   \n",
              "POutcome                 0.036588          0.046246 -0.479257   \n",
              "Coutcome                 0.394536         -0.073176  0.103613   \n",
              "\n",
              "                  PreviousContacts  POutcome  Coutcome  \n",
              "Age                       0.001313  0.021434  0.025193  \n",
              "Marital                  -0.012677 -0.005208 -0.060242  \n",
              "Education                 0.025288  0.002866  0.051332  \n",
              "Credit?                  -0.018332  0.010863 -0.022422  \n",
              "Balance                   0.016670  0.007178  0.052833  \n",
              "HousingLoan               0.037081 -0.134464 -0.139172  \n",
              "PersonalLoan             -0.011051 -0.024311 -0.068196  \n",
              "Contact                   0.091907 -0.092323  0.100815  \n",
              "LastDay                  -0.049254  0.041048 -0.027345  \n",
              "ContactDuration           0.001202  0.036588  0.394536  \n",
              "CampaignContacts         -0.032858  0.046246 -0.073176  \n",
              "Pdays                     0.454816 -0.479257  0.103613  \n",
              "PreviousContacts          1.000000 -0.197266  0.093230  \n",
              "POutcome                 -0.197266  1.000000  0.141087  \n",
              "Coutcome                  0.093230  0.141087  1.000000  "
            ]
          },
          "execution_count": 178,
          "metadata": {},
          "output_type": "execute_result"
        }
      ],
      "source": [
        "corr_df.corr(numeric_only=True)"
      ]
    },
    {
      "cell_type": "markdown",
      "metadata": {},
      "source": [
        "### Some things I noticed from this correlation chart\n",
        "\n",
        "Higher age = more likely married, but lower education\n",
        "\n",
        "people withe cell phones where more likely to have been contacted in prev campaine\n",
        "\n",
        "higher last contract duration = more likely to have subscribed to term deposit (Coutcome)\n",
        "\n",
        "People contacted in prev campaine (non -1 pdays) =  more likely to have subscribed to term deposit (Coutcome)\n",
        "\n",
        "The more someone was contacted before the campaine = less likely to have a sucess rating in Poitcome, but more likely to have subscribed to term deposit (Coutcome)"
      ]
    },
    {
      "cell_type": "code",
      "execution_count": 179,
      "metadata": {},
      "outputs": [
        {
          "data": {
            "text/plain": [
              "count    45208.000000\n",
              "mean        40.935166\n",
              "std         10.618272\n",
              "min         18.000000\n",
              "25%         33.000000\n",
              "50%         39.000000\n",
              "75%         48.000000\n",
              "max         95.000000\n",
              "Name: Age, dtype: float64"
            ]
          },
          "execution_count": 179,
          "metadata": {},
          "output_type": "execute_result"
        }
      ],
      "source": [
        "df.Age.describe()"
      ]
    },
    {
      "cell_type": "markdown",
      "metadata": {},
      "source": [
        "Avg age is 40.9, medium age is 39, oldest is 95, youngest is 18.\n",
        "\n",
        "This tells us here are alot of middle aged people starting from 30 to 60"
      ]
    },
    {
      "cell_type": "code",
      "execution_count": 180,
      "metadata": {
        "id": "3SqlsdyYgsRh"
      },
      "outputs": [
        {
          "data": {
            "image/png": "[encoded data removed]",
            "text/plain": [
              "<Figure size 1000x500 with 1 Axes>"
            ]
          },
          "metadata": {},
          "output_type": "display_data"
        }
      ],
      "source": [
        "# Age stuff\n",
        "plt.figure(figsize=(10, 5))\n",
        "plt.hist(df['Age'].values, rwidth=1, bins =77, color='green')\n",
        "plt.title('Histogram of Age Distribution')\n",
        "plt.ylabel('Frequency')\n",
        "plt.xlabel('Age')\n",
        "plt.show()"
      ]
    },
    {
      "cell_type": "markdown",
      "metadata": {},
      "source": [
        "The below code is creating a pie chart for all individuals that have above average balances based on their marital status. Throughout our analysis we have also noticed about 26% of all individuals are above the mean (average) balance. We are inferring that the financial institutions marketing campaign for higher balance individuals will only affect 26% of their customers."
      ]
    },
    {
      "cell_type": "code",
      "execution_count": 181,
      "metadata": {},
      "outputs": [
        {
          "data": {
            "image/png": "[encoded data removed]",
            "text/plain": [
              "<Figure size 640x480 with 1 Axes>"
            ]
          },
          "metadata": {},
          "output_type": "display_data"
        }
      ],
      "source": [
        "\n",
        "average_balance = df['Balance'].mean() \n",
        "\n",
        "above_average_bal = len(df[df['Balance'] > average_balance]) #number of people that have above average balances\n",
        "#df.describe()\n",
        "\n",
        "marital_titles = df['Marital'].value_counts().index.to_list()\n",
        "\n",
        "\n",
        "marital_above_average_bal = [] \n",
        "status_total = 0\n",
        "marital_percentage_above_average_bal = []\n",
        "\n",
        "\n",
        "for m in marital_titles: \n",
        "    status_total = df[df['Marital'] == m]\n",
        "    marital_above_average_bal.append(len(status_total[status_total['Balance'] > average_balance]))\n",
        "\n",
        "total_count = sum(marital_above_average_bal)\n",
        "for marital in marital_above_average_bal:\n",
        "    marital_percentage_above_average_bal.append(marital / total_count * 100)\n",
        "\n",
        "bar_colors = ['#FF9999', '#99CCFF', '#FF99FF']\n",
        "\n",
        "plt.pie(marital_percentage_above_average_bal,  colors=bar_colors, labels=marital_titles,autopct='%1.1f%%')\n",
        "\n",
        "plt.title('Percentage of Marital status that are above average balances')\n",
        "plt.legend(loc=\"lower right\", bbox_to_anchor=(1.42,0.7))\n",
        " \n",
        "plt.show()\n"
      ]
    },
    {
      "cell_type": "code",
      "execution_count": 182,
      "metadata": {},
      "outputs": [
        {
          "data": {
            "image/png": "[encoded data removed]",
            "text/plain": [
              "<Figure size 640x480 with 1 Axes>"
            ]
          },
          "metadata": {},
          "output_type": "display_data"
        },
        {
          "name": "stdout",
          "output_type": "stream",
          "text": [
            "[84.00442666212649, 15.9955733378735]\n"
          ]
        }
      ],
      "source": [
        "#people with above average balances\n",
        "above_average_bal = df[df['Balance'] > average_balance]\n",
        "\n",
        "# number of people that put down a term deposit vs people that did not put down a term deposit\n",
        "NoDeposit = len(above_average_bal[above_average_bal[\"Coutcome\"] =='no'])\n",
        "YesDeposit = len(above_average_bal[above_average_bal[\"Coutcome\"] =='yes'])\n",
        "\n",
        "#print(NoDeposit)\n",
        "#print(YesDeposit)\n",
        "\n",
        "\n",
        "\n",
        "\n",
        "total_cooutcome = []\n",
        "total_cooutcome.append(NoDeposit/len(above_average_bal) * 100)\n",
        "total_cooutcome.append(YesDeposit/len(above_average_bal) * 100)\n",
        "#plt.bar(above_average_bal['Coutcome'].unique(), above_average_bal[\"Coutcome\"].value_counts(), color=bar_colors, align='center', width=0.5) =\n",
        "plt.pie(total_cooutcome,  colors=[ 'tomato', 'cornflowerblue'], labels=['No', 'Yes'], autopct='%1.1f%%')\n",
        "\n",
        "\n",
        "plt.legend(loc=\"lower right\", bbox_to_anchor=(1.42,0.7))\n",
        "plt.title('Deposit Rate of people with above average balances')\n",
        "\n",
        "plt.show()\n",
        "print(total_cooutcome)"
      ]
    },
    {
      "cell_type": "markdown",
      "metadata": {},
      "source": [
        "<h1> Percentage of Individuals are above the mean (average) balance <h1>"
      ]
    },
    {
      "cell_type": "code",
      "execution_count": 183,
      "metadata": {},
      "outputs": [
        {
          "name": "stdout",
          "output_type": "stream",
          "text": [
            "25.984339055034507\n"
          ]
        }
      ],
      "source": [
        "print(total_count / len(df) * 100)"
      ]
    },
    {
      "cell_type": "code",
      "execution_count": 184,
      "metadata": {},
      "outputs": [
        {
          "data": {
            "image/png": "[encoded data removed]",
            "text/plain": [
              "<Figure size 640x480 with 1 Axes>"
            ]
          },
          "metadata": {},
          "output_type": "display_data"
        }
      ],
      "source": [
        "bar_colors = ['#a6cee3', '#ffbb78', '#98df8a', '#ff9896', '#cfa3e3']\n",
        "\n",
        "plt.bar(df['Education'].unique(), df[\"Education\"].value_counts(), color=bar_colors, align='center', width=0.5)\n",
        "\n",
        "plt.ylabel('# of people')\n",
        "plt.xlabel('Education Levels')\n",
        "plt.title('Top 5 Education')\n",
        "\n",
        "plt.show()"
      ]
    },
    {
      "cell_type": "code",
      "execution_count": 185,
      "metadata": {},
      "outputs": [
        {
          "data": {
            "image/png": "[encoded data removed]",
            "text/plain": [
              "<Figure size 640x480 with 1 Axes>"
            ]
          },
          "metadata": {},
          "output_type": "display_data"
        }
      ],
      "source": [
        "job_title = df['Job'].value_counts()[:5].index.to_list()\n",
        "\n",
        "job_counts = df['Job'].value_counts()[:5]\n",
        "\n",
        "# Convert the value counts to a NumPy array\n",
        "job_counts_array = job_counts.values\n",
        "\n",
        "#job_title = ['Blue Collar', 'House Maid', 'Technician', 'Management', 'Entrepreneur']\n",
        "\n",
        "bar_colors = ['#a6cee3', '#ffbb78', '#98df8a', '#ff9896', '#cfa3e3']\n",
        "\n",
        "plt.bar(job_title, job_counts, color=bar_colors, label=job_title, align='center', width=0.5)\n",
        "\n",
        "plt.ylabel('# of Jobs')\n",
        "plt.xlabel('Job Titles')\n",
        "plt.title('Top 5 Jobs')\n",
        "#plt.legend(title='Fruit color')\n",
        "\n",
        "plt.show()\n",
        "\n"
      ]
    },
    {
      "cell_type": "markdown",
      "metadata": {},
      "source": [
        "Bar Chart of different jobs that have credit or not "
      ]
    },
    {
      "cell_type": "markdown",
      "metadata": {},
      "source": [
        "<h2>Data Cleaning<h2>"
      ]
    },
    {
      "cell_type": "code",
      "execution_count": 186,
      "metadata": {},
      "outputs": [],
      "source": [
        "clean_df = df"
      ]
    },
    {
      "cell_type": "markdown",
      "metadata": {},
      "source": [
        "<h1>Missing values<h1>"
      ]
    },
    {
      "cell_type": "markdown",
      "metadata": {},
      "source": [
        "The first step of data cleaning would be to see if there is any values that are null, as you can see there is no null values "
      ]
    },
    {
      "cell_type": "code",
      "execution_count": 187,
      "metadata": {},
      "outputs": [
        {
          "data": {
            "text/plain": [
              "Age                 0\n",
              "Job                 0\n",
              "Marital             0\n",
              "Education           0\n",
              "Credit?             0\n",
              "Balance             0\n",
              "HousingLoan         0\n",
              "PersonalLoan        0\n",
              "Contact             0\n",
              "LastDay             0\n",
              "LastMonth           0\n",
              "ContactDuration     0\n",
              "CampaignContacts    0\n",
              "Pdays               0\n",
              "PreviousContacts    0\n",
              "POutcome            0\n",
              "Coutcome            0\n",
              "dtype: int64"
            ]
          },
          "execution_count": 187,
          "metadata": {},
          "output_type": "execute_result"
        }
      ],
      "source": [
        " #returns the number of missing values   \n",
        "clean_df.isnull().sum() "
      ]
    },
    {
      "cell_type": "markdown",
      "metadata": {},
      "source": [
        "The second step of data cleaning would be to see if there are any values that are empty"
      ]
    },
    {
      "cell_type": "code",
      "execution_count": 188,
      "metadata": {},
      "outputs": [
        {
          "data": {
            "text/plain": [
              "Age                 0\n",
              "Job                 0\n",
              "Marital             0\n",
              "Education           0\n",
              "Credit?             0\n",
              "Balance             0\n",
              "HousingLoan         0\n",
              "PersonalLoan        0\n",
              "Contact             0\n",
              "LastDay             0\n",
              "LastMonth           0\n",
              "ContactDuration     0\n",
              "CampaignContacts    0\n",
              "Pdays               0\n",
              "PreviousContacts    0\n",
              "POutcome            0\n",
              "Coutcome            0\n",
              "dtype: int64"
            ]
          },
          "execution_count": 188,
          "metadata": {},
          "output_type": "execute_result"
        }
      ],
      "source": [
        " #returns the number of missing values\n",
        "clean_df.isna().sum() "
      ]
    },
    {
      "cell_type": "markdown",
      "metadata": {},
      "source": [
        "<h1>Find all the Job names<h1>"
      ]
    },
    {
      "cell_type": "markdown",
      "metadata": {},
      "source": [
        "As you can see for Admin role there is an extra period added to the end of the data which we will remove the period from the dataset  "
      ]
    },
    {
      "cell_type": "code",
      "execution_count": 189,
      "metadata": {},
      "outputs": [
        {
          "data": {
            "text/plain": [
              "array(['blue-collar', 'housemaid', 'technician', 'management',\n",
              "       'entrepreneur', 'admin.', 'services', 'self-employed', 'retired',\n",
              "       'unemployed', 'unknown', 'student'], dtype=object)"
            ]
          },
          "execution_count": 189,
          "metadata": {},
          "output_type": "execute_result"
        }
      ],
      "source": [
        "clean_df['Job'].unique()"
      ]
    },
    {
      "cell_type": "markdown",
      "metadata": {},
      "source": [
        "<h1>Find all the month names<h1> "
      ]
    },
    {
      "cell_type": "markdown",
      "metadata": {},
      "source": [
        "As you can see for lastMonth column there is incorrectly typed Month of may which includes two Y's, we will replace the existing value back to correct format\n"
      ]
    },
    {
      "cell_type": "code",
      "execution_count": 190,
      "metadata": {},
      "outputs": [
        {
          "data": {
            "text/plain": [
              "array(['may', 'jul', 'jun', 'mayY', 'aug', 'oct', 'nov', 'dec', 'jan',\n",
              "       'feb', 'mar', 'apr', 'sep'], dtype=object)"
            ]
          },
          "execution_count": 190,
          "metadata": {},
          "output_type": "execute_result"
        }
      ],
      "source": [
        "#Find all the unique month columns \n",
        "clean_df['LastMonth'].unique()"
      ]
    },
    {
      "cell_type": "markdown",
      "metadata": {},
      "source": [
        "Entry #13 has an error month is labeled as mayY (drop this record or replace)\n",
        "jobs has unknown"
      ]
    },
    {
      "cell_type": "code",
      "execution_count": 191,
      "metadata": {},
      "outputs": [
        {
          "name": "stderr",
          "output_type": "stream",
          "text": [
            "C:\\Users\\PC\\AppData\\Local\\Temp\\ipykernel_372\\3969752105.py:3: FutureWarning: A value is trying to be set on a copy of a DataFrame or Series through chained assignment using an inplace method.\n",
            "The behavior will change in pandas 3.0. This inplace method will never work because the intermediate object on which we are setting values always behaves as a copy.\n",
            "\n",
            "For example, when doing 'df[col].method(value, inplace=True)', try using 'df.method({col: value}, inplace=True)' or df[col] = df[col].method(value) instead, to perform the operation inplace on the original object.\n",
            "\n",
            "\n",
            "  clean_df['LastMonth'].replace('mayY', 'may', inplace=True)\n",
            "C:\\Users\\PC\\AppData\\Local\\Temp\\ipykernel_372\\3969752105.py:6: FutureWarning: A value is trying to be set on a copy of a DataFrame or Series through chained assignment using an inplace method.\n",
            "The behavior will change in pandas 3.0. This inplace method will never work because the intermediate object on which we are setting values always behaves as a copy.\n",
            "\n",
            "For example, when doing 'df[col].method(value, inplace=True)', try using 'df.method({col: value}, inplace=True)' or df[col] = df[col].method(value) instead, to perform the operation inplace on the original object.\n",
            "\n",
            "\n",
            "  clean_df['Job'].replace('admin.', 'admin', inplace=True)\n"
          ]
        }
      ],
      "source": [
        "# We will replace the mayY with may \n",
        "\n",
        "clean_df['LastMonth'].replace('mayY', 'may', inplace=True)\n",
        "\n",
        "#We will replace the admin. with admin\n",
        "clean_df['Job'].replace('admin.', 'admin', inplace=True)\n"
      ]
    },
    {
      "cell_type": "markdown",
      "metadata": {},
      "source": [
        "Verifying that month and job columns have clean data"
      ]
    },
    {
      "cell_type": "code",
      "execution_count": 192,
      "metadata": {},
      "outputs": [
        {
          "data": {
            "text/html": [
              "<div>\n",
              "<style scoped>\n",
              "    .dataframe tbody tr th:only-of-type {\n",
              "        vertical-align: middle;\n",
              "    }\n",
              "\n",
              "    .dataframe tbody tr th {\n",
              "        vertical-align: top;\n",
              "    }\n",
              "\n",
              "    .dataframe thead th {\n",
              "        text-align: right;\n",
              "    }\n",
              "</style>\n",
              "<table border=\"1\" class=\"dataframe\">\n",
              "  <thead>\n",
              "    <tr style=\"text-align: right;\">\n",
              "      <th></th>\n",
              "      <th>Age</th>\n",
              "      <th>Job</th>\n",
              "      <th>Marital</th>\n",
              "      <th>Education</th>\n",
              "      <th>Credit?</th>\n",
              "      <th>Balance</th>\n",
              "      <th>HousingLoan</th>\n",
              "      <th>PersonalLoan</th>\n",
              "      <th>Contact</th>\n",
              "      <th>LastDay</th>\n",
              "      <th>LastMonth</th>\n",
              "      <th>ContactDuration</th>\n",
              "      <th>CampaignContacts</th>\n",
              "      <th>Pdays</th>\n",
              "      <th>PreviousContacts</th>\n",
              "      <th>POutcome</th>\n",
              "      <th>Coutcome</th>\n",
              "    </tr>\n",
              "  </thead>\n",
              "  <tbody>\n",
              "  </tbody>\n",
              "</table>\n",
              "</div>"
            ],
            "text/plain": [
              "Empty DataFrame\n",
              "Columns: [Age, Job, Marital, Education, Credit?, Balance, HousingLoan, PersonalLoan, Contact, LastDay, LastMonth, ContactDuration, CampaignContacts, Pdays, PreviousContacts, POutcome, Coutcome]\n",
              "Index: []"
            ]
          },
          "execution_count": 192,
          "metadata": {},
          "output_type": "execute_result"
        }
      ],
      "source": [
        "clean_df[(clean_df['LastMonth'] == 'mayY')]"
      ]
    },
    {
      "cell_type": "code",
      "execution_count": 193,
      "metadata": {},
      "outputs": [
        {
          "data": {
            "text/html": [
              "<div>\n",
              "<style scoped>\n",
              "    .dataframe tbody tr th:only-of-type {\n",
              "        vertical-align: middle;\n",
              "    }\n",
              "\n",
              "    .dataframe tbody tr th {\n",
              "        vertical-align: top;\n",
              "    }\n",
              "\n",
              "    .dataframe thead th {\n",
              "        text-align: right;\n",
              "    }\n",
              "</style>\n",
              "<table border=\"1\" class=\"dataframe\">\n",
              "  <thead>\n",
              "    <tr style=\"text-align: right;\">\n",
              "      <th></th>\n",
              "      <th>Age</th>\n",
              "      <th>Job</th>\n",
              "      <th>Marital</th>\n",
              "      <th>Education</th>\n",
              "      <th>Credit?</th>\n",
              "      <th>Balance</th>\n",
              "      <th>HousingLoan</th>\n",
              "      <th>PersonalLoan</th>\n",
              "      <th>Contact</th>\n",
              "      <th>LastDay</th>\n",
              "      <th>LastMonth</th>\n",
              "      <th>ContactDuration</th>\n",
              "      <th>CampaignContacts</th>\n",
              "      <th>Pdays</th>\n",
              "      <th>PreviousContacts</th>\n",
              "      <th>POutcome</th>\n",
              "      <th>Coutcome</th>\n",
              "    </tr>\n",
              "  </thead>\n",
              "  <tbody>\n",
              "  </tbody>\n",
              "</table>\n",
              "</div>"
            ],
            "text/plain": [
              "Empty DataFrame\n",
              "Columns: [Age, Job, Marital, Education, Credit?, Balance, HousingLoan, PersonalLoan, Contact, LastDay, LastMonth, ContactDuration, CampaignContacts, Pdays, PreviousContacts, POutcome, Coutcome]\n",
              "Index: []"
            ]
          },
          "execution_count": 193,
          "metadata": {},
          "output_type": "execute_result"
        }
      ],
      "source": [
        "clean_df[(clean_df['Job'] == 'admin.')]"
      ]
    },
    {
      "cell_type": "markdown",
      "metadata": {},
      "source": [
        "jobs, Education, Contact(this one may not be issue), POutcome has unknons\n",
        "Last month has a mayY value\n",
        "Pdays has a -1 value may not be issue\n",
        "LastDay has 1 value above 600"
      ]
    },
    {
      "cell_type": "markdown",
      "metadata": {},
      "source": [
        "<h1>Dropping the LastDay column <h1>"
      ]
    },
    {
      "cell_type": "markdown",
      "metadata": {},
      "source": [
        "In our findings we found that there was one outlier which had value of 628 which doesn't make sense for LastDay communciated by the financial institute. We also decided that we aren't going to be use the LastDay column in our clustering process so we will drop this column completely "
      ]
    },
    {
      "cell_type": "code",
      "execution_count": 194,
      "metadata": {},
      "outputs": [
        {
          "data": {
            "text/html": [
              "<div>\n",
              "<style scoped>\n",
              "    .dataframe tbody tr th:only-of-type {\n",
              "        vertical-align: middle;\n",
              "    }\n",
              "\n",
              "    .dataframe tbody tr th {\n",
              "        vertical-align: top;\n",
              "    }\n",
              "\n",
              "    .dataframe thead th {\n",
              "        text-align: right;\n",
              "    }\n",
              "</style>\n",
              "<table border=\"1\" class=\"dataframe\">\n",
              "  <thead>\n",
              "    <tr style=\"text-align: right;\">\n",
              "      <th></th>\n",
              "      <th>Age</th>\n",
              "      <th>Job</th>\n",
              "      <th>Marital</th>\n",
              "      <th>Education</th>\n",
              "      <th>Credit?</th>\n",
              "      <th>Balance</th>\n",
              "      <th>HousingLoan</th>\n",
              "      <th>PersonalLoan</th>\n",
              "      <th>Contact</th>\n",
              "      <th>LastDay</th>\n",
              "      <th>LastMonth</th>\n",
              "      <th>ContactDuration</th>\n",
              "      <th>CampaignContacts</th>\n",
              "      <th>Pdays</th>\n",
              "      <th>PreviousContacts</th>\n",
              "      <th>POutcome</th>\n",
              "      <th>Coutcome</th>\n",
              "    </tr>\n",
              "  </thead>\n",
              "  <tbody>\n",
              "    <tr>\n",
              "      <th>605</th>\n",
              "      <td>23</td>\n",
              "      <td>blue-collar</td>\n",
              "      <td>single</td>\n",
              "      <td>secondary</td>\n",
              "      <td>no</td>\n",
              "      <td>214</td>\n",
              "      <td>yes</td>\n",
              "      <td>no</td>\n",
              "      <td>unknown</td>\n",
              "      <td>628</td>\n",
              "      <td>may</td>\n",
              "      <td>44</td>\n",
              "      <td>1</td>\n",
              "      <td>-1</td>\n",
              "      <td>0</td>\n",
              "      <td>unknown</td>\n",
              "      <td>no</td>\n",
              "    </tr>\n",
              "  </tbody>\n",
              "</table>\n",
              "</div>"
            ],
            "text/plain": [
              "     Age          Job Marital  Education Credit?  Balance HousingLoan  \\\n",
              "605   23  blue-collar  single  secondary      no      214         yes   \n",
              "\n",
              "    PersonalLoan  Contact  LastDay LastMonth  ContactDuration  \\\n",
              "605           no  unknown      628       may               44   \n",
              "\n",
              "     CampaignContacts  Pdays  PreviousContacts POutcome Coutcome  \n",
              "605                 1     -1                 0  unknown       no  "
            ]
          },
          "execution_count": 194,
          "metadata": {},
          "output_type": "execute_result"
        }
      ],
      "source": [
        "clean_df[(clean_df['LastDay'] == 628)]"
      ]
    },
    {
      "cell_type": "code",
      "execution_count": 195,
      "metadata": {},
      "outputs": [],
      "source": [
        "clean_df = clean_df.drop(columns=['LastDay'])"
      ]
    },
    {
      "cell_type": "code",
      "execution_count": 196,
      "metadata": {},
      "outputs": [
        {
          "data": {
            "text/html": [
              "<div>\n",
              "<style scoped>\n",
              "    .dataframe tbody tr th:only-of-type {\n",
              "        vertical-align: middle;\n",
              "    }\n",
              "\n",
              "    .dataframe tbody tr th {\n",
              "        vertical-align: top;\n",
              "    }\n",
              "\n",
              "    .dataframe thead th {\n",
              "        text-align: right;\n",
              "    }\n",
              "</style>\n",
              "<table border=\"1\" class=\"dataframe\">\n",
              "  <thead>\n",
              "    <tr style=\"text-align: right;\">\n",
              "      <th></th>\n",
              "      <th>Age</th>\n",
              "      <th>Job</th>\n",
              "      <th>Marital</th>\n",
              "      <th>Education</th>\n",
              "      <th>Credit?</th>\n",
              "      <th>Balance</th>\n",
              "      <th>HousingLoan</th>\n",
              "      <th>PersonalLoan</th>\n",
              "      <th>Contact</th>\n",
              "      <th>LastMonth</th>\n",
              "      <th>ContactDuration</th>\n",
              "      <th>CampaignContacts</th>\n",
              "      <th>Pdays</th>\n",
              "      <th>PreviousContacts</th>\n",
              "      <th>POutcome</th>\n",
              "      <th>Coutcome</th>\n",
              "    </tr>\n",
              "  </thead>\n",
              "  <tbody>\n",
              "    <tr>\n",
              "      <th>0</th>\n",
              "      <td>34</td>\n",
              "      <td>blue-collar</td>\n",
              "      <td>married</td>\n",
              "      <td>secondary</td>\n",
              "      <td>no</td>\n",
              "      <td>7216</td>\n",
              "      <td>yes</td>\n",
              "      <td>no</td>\n",
              "      <td>unknown</td>\n",
              "      <td>may</td>\n",
              "      <td>143</td>\n",
              "      <td>2</td>\n",
              "      <td>-1</td>\n",
              "      <td>0</td>\n",
              "      <td>unknown</td>\n",
              "      <td>no</td>\n",
              "    </tr>\n",
              "    <tr>\n",
              "      <th>1</th>\n",
              "      <td>29</td>\n",
              "      <td>housemaid</td>\n",
              "      <td>married</td>\n",
              "      <td>secondary</td>\n",
              "      <td>no</td>\n",
              "      <td>823</td>\n",
              "      <td>yes</td>\n",
              "      <td>no</td>\n",
              "      <td>unknown</td>\n",
              "      <td>may</td>\n",
              "      <td>14</td>\n",
              "      <td>2</td>\n",
              "      <td>-1</td>\n",
              "      <td>0</td>\n",
              "      <td>unknown</td>\n",
              "      <td>no</td>\n",
              "    </tr>\n",
              "    <tr>\n",
              "      <th>2</th>\n",
              "      <td>41</td>\n",
              "      <td>blue-collar</td>\n",
              "      <td>married</td>\n",
              "      <td>primary</td>\n",
              "      <td>no</td>\n",
              "      <td>17</td>\n",
              "      <td>no</td>\n",
              "      <td>no</td>\n",
              "      <td>cellular</td>\n",
              "      <td>jul</td>\n",
              "      <td>117</td>\n",
              "      <td>3</td>\n",
              "      <td>-1</td>\n",
              "      <td>0</td>\n",
              "      <td>unknown</td>\n",
              "      <td>no</td>\n",
              "    </tr>\n",
              "    <tr>\n",
              "      <th>3</th>\n",
              "      <td>37</td>\n",
              "      <td>technician</td>\n",
              "      <td>married</td>\n",
              "      <td>secondary</td>\n",
              "      <td>no</td>\n",
              "      <td>729</td>\n",
              "      <td>yes</td>\n",
              "      <td>no</td>\n",
              "      <td>cellular</td>\n",
              "      <td>jul</td>\n",
              "      <td>115</td>\n",
              "      <td>5</td>\n",
              "      <td>-1</td>\n",
              "      <td>0</td>\n",
              "      <td>unknown</td>\n",
              "      <td>no</td>\n",
              "    </tr>\n",
              "    <tr>\n",
              "      <th>4</th>\n",
              "      <td>32</td>\n",
              "      <td>blue-collar</td>\n",
              "      <td>single</td>\n",
              "      <td>secondary</td>\n",
              "      <td>no</td>\n",
              "      <td>15341</td>\n",
              "      <td>no</td>\n",
              "      <td>no</td>\n",
              "      <td>unknown</td>\n",
              "      <td>may</td>\n",
              "      <td>738</td>\n",
              "      <td>3</td>\n",
              "      <td>-1</td>\n",
              "      <td>0</td>\n",
              "      <td>unknown</td>\n",
              "      <td>no</td>\n",
              "    </tr>\n",
              "  </tbody>\n",
              "</table>\n",
              "</div>"
            ],
            "text/plain": [
              "   Age          Job  Marital  Education Credit?  Balance HousingLoan  \\\n",
              "0   34  blue-collar  married  secondary      no     7216         yes   \n",
              "1   29    housemaid  married  secondary      no      823         yes   \n",
              "2   41  blue-collar  married    primary      no       17          no   \n",
              "3   37   technician  married  secondary      no      729         yes   \n",
              "4   32  blue-collar   single  secondary      no    15341          no   \n",
              "\n",
              "  PersonalLoan   Contact LastMonth  ContactDuration  CampaignContacts  Pdays  \\\n",
              "0           no   unknown       may              143                 2     -1   \n",
              "1           no   unknown       may               14                 2     -1   \n",
              "2           no  cellular       jul              117                 3     -1   \n",
              "3           no  cellular       jul              115                 5     -1   \n",
              "4           no   unknown       may              738                 3     -1   \n",
              "\n",
              "   PreviousContacts POutcome Coutcome  \n",
              "0                 0  unknown       no  \n",
              "1                 0  unknown       no  \n",
              "2                 0  unknown       no  \n",
              "3                 0  unknown       no  \n",
              "4                 0  unknown       no  "
            ]
          },
          "execution_count": 196,
          "metadata": {},
          "output_type": "execute_result"
        }
      ],
      "source": [
        "clean_df.head()"
      ]
    },
    {
      "cell_type": "markdown",
      "metadata": {},
      "source": [
        "<h1> We wil come back and decide if we want to drop anymore columns !!!!!!! <h1>"
      ]
    },
    {
      "cell_type": "markdown",
      "metadata": {},
      "source": [
        "Clustering Ideas\n",
        "\n",
        "best month for marketting campaign\n",
        "\n",
        "avg # contacts per month\n",
        "\n",
        "new vs old people Coutcome\n",
        "\n"
      ]
    },
    {
      "cell_type": "markdown",
      "metadata": {},
      "source": [
        "This financial institution is very new considering the number of new"
      ]
    },
    {
      "cell_type": "code",
      "execution_count": 197,
      "metadata": {},
      "outputs": [
        {
          "data": {
            "text/plain": [
              "POutcome\n",
              "unknown    36956\n",
              "failure     4901\n",
              "other       1840\n",
              "success     1511\n",
              "Name: count, dtype: int64"
            ]
          },
          "execution_count": 197,
          "metadata": {},
          "output_type": "execute_result"
        }
      ],
      "source": [
        "df['POutcome'].value_counts()\n",
        "\n",
        "#df[(df['Pdays'] == -1)]['POutcome'].value_counts()]\n",
        "\n",
        "#36951\n",
        "#failure     4901\n",
        "\n",
        "\n",
        "# New marketing campaign reached a broader audience but overal the percenetage of success was very low \n",
        "#df[(df['Pdays'] == -1)][\"Coutcome\"].value_counts()\n",
        "\n",
        "# Old \n",
        "#df[(df['Pdays'] != -1)][\"Coutcome\"].value_counts()\n",
        "\n",
        "\n",
        "#df[(df['Pdays'] == -1)][['Pdays', 'POutcome']].value_counts()"
      ]
    },
    {
      "cell_type": "markdown",
      "metadata": {},
      "source": [
        "<h1>Selection and Clustering<h1>"
      ]
    },
    {
      "cell_type": "code",
      "execution_count": 198,
      "metadata": {},
      "outputs": [
        {
          "name": "stdout",
          "output_type": "stream",
          "text": [
            "['LastMonth_apr' 'LastMonth_aug' 'LastMonth_dec' 'LastMonth_feb'\n",
            " 'LastMonth_jan' 'LastMonth_jul' 'LastMonth_jun' 'LastMonth_mar'\n",
            " 'LastMonth_may' 'LastMonth_nov' 'LastMonth_oct' 'LastMonth_sep'\n",
            " 'Coutcome_no' 'Coutcome_yes']\n",
            "(45208, 14)\n"
          ]
        }
      ],
      "source": [
        "#categorical_cols = ['City','Gender']\n",
        "categorical_cols = ['LastMonth','Coutcome']\n",
        "# loc is a indexer to select all rows (:) , X_cat will be a 2D NumPy array containing the values from the 'LastMonth' columns of df.\n",
        "X_cat = clean_df.loc[:,categorical_cols].values\n",
        "data_other_cols = clean_df.drop(columns=categorical_cols)\n",
        "\n",
        "#print(X_cat)\n",
        "#print(X_cat.shape)\n",
        "\n",
        "enc = OneHotEncoder(handle_unknown='ignore')\n",
        "enc.fit(X_cat)\n",
        "feature_names = enc.get_feature_names_out(categorical_cols)\n",
        "print(feature_names)\n",
        "X_cat_new = enc.transform(X_cat)\n",
        "print(X_cat_new.shape)\n"
      ]
    },
    {
      "cell_type": "code",
      "execution_count": 199,
      "metadata": {},
      "outputs": [
        {
          "data": {
            "text/html": [
              "<div>\n",
              "<style scoped>\n",
              "    .dataframe tbody tr th:only-of-type {\n",
              "        vertical-align: middle;\n",
              "    }\n",
              "\n",
              "    .dataframe tbody tr th {\n",
              "        vertical-align: top;\n",
              "    }\n",
              "\n",
              "    .dataframe thead th {\n",
              "        text-align: right;\n",
              "    }\n",
              "</style>\n",
              "<table border=\"1\" class=\"dataframe\">\n",
              "  <thead>\n",
              "    <tr style=\"text-align: right;\">\n",
              "      <th></th>\n",
              "      <th>LastMonth_apr</th>\n",
              "      <th>LastMonth_aug</th>\n",
              "      <th>LastMonth_dec</th>\n",
              "      <th>LastMonth_feb</th>\n",
              "      <th>LastMonth_jan</th>\n",
              "      <th>LastMonth_jul</th>\n",
              "      <th>LastMonth_jun</th>\n",
              "      <th>LastMonth_mar</th>\n",
              "      <th>LastMonth_may</th>\n",
              "      <th>LastMonth_nov</th>\n",
              "      <th>LastMonth_oct</th>\n",
              "      <th>LastMonth_sep</th>\n",
              "      <th>Coutcome_no</th>\n",
              "      <th>Coutcome_yes</th>\n",
              "    </tr>\n",
              "  </thead>\n",
              "  <tbody>\n",
              "    <tr>\n",
              "      <th>0</th>\n",
              "      <td>0.0</td>\n",
              "      <td>0.0</td>\n",
              "      <td>0.0</td>\n",
              "      <td>0.0</td>\n",
              "      <td>0.0</td>\n",
              "      <td>0.0</td>\n",
              "      <td>0.0</td>\n",
              "      <td>0.0</td>\n",
              "      <td>1.0</td>\n",
              "      <td>0.0</td>\n",
              "      <td>0.0</td>\n",
              "      <td>0.0</td>\n",
              "      <td>1.0</td>\n",
              "      <td>0.0</td>\n",
              "    </tr>\n",
              "    <tr>\n",
              "      <th>1</th>\n",
              "      <td>0.0</td>\n",
              "      <td>0.0</td>\n",
              "      <td>0.0</td>\n",
              "      <td>0.0</td>\n",
              "      <td>0.0</td>\n",
              "      <td>0.0</td>\n",
              "      <td>0.0</td>\n",
              "      <td>0.0</td>\n",
              "      <td>1.0</td>\n",
              "      <td>0.0</td>\n",
              "      <td>0.0</td>\n",
              "      <td>0.0</td>\n",
              "      <td>1.0</td>\n",
              "      <td>0.0</td>\n",
              "    </tr>\n",
              "    <tr>\n",
              "      <th>2</th>\n",
              "      <td>0.0</td>\n",
              "      <td>0.0</td>\n",
              "      <td>0.0</td>\n",
              "      <td>0.0</td>\n",
              "      <td>0.0</td>\n",
              "      <td>1.0</td>\n",
              "      <td>0.0</td>\n",
              "      <td>0.0</td>\n",
              "      <td>0.0</td>\n",
              "      <td>0.0</td>\n",
              "      <td>0.0</td>\n",
              "      <td>0.0</td>\n",
              "      <td>1.0</td>\n",
              "      <td>0.0</td>\n",
              "    </tr>\n",
              "    <tr>\n",
              "      <th>3</th>\n",
              "      <td>0.0</td>\n",
              "      <td>0.0</td>\n",
              "      <td>0.0</td>\n",
              "      <td>0.0</td>\n",
              "      <td>0.0</td>\n",
              "      <td>1.0</td>\n",
              "      <td>0.0</td>\n",
              "      <td>0.0</td>\n",
              "      <td>0.0</td>\n",
              "      <td>0.0</td>\n",
              "      <td>0.0</td>\n",
              "      <td>0.0</td>\n",
              "      <td>1.0</td>\n",
              "      <td>0.0</td>\n",
              "    </tr>\n",
              "    <tr>\n",
              "      <th>4</th>\n",
              "      <td>0.0</td>\n",
              "      <td>0.0</td>\n",
              "      <td>0.0</td>\n",
              "      <td>0.0</td>\n",
              "      <td>0.0</td>\n",
              "      <td>0.0</td>\n",
              "      <td>0.0</td>\n",
              "      <td>0.0</td>\n",
              "      <td>1.0</td>\n",
              "      <td>0.0</td>\n",
              "      <td>0.0</td>\n",
              "      <td>0.0</td>\n",
              "      <td>1.0</td>\n",
              "      <td>0.0</td>\n",
              "    </tr>\n",
              "  </tbody>\n",
              "</table>\n",
              "</div>"
            ],
            "text/plain": [
              "   LastMonth_apr  LastMonth_aug  LastMonth_dec  LastMonth_feb  LastMonth_jan  \\\n",
              "0            0.0            0.0            0.0            0.0            0.0   \n",
              "1            0.0            0.0            0.0            0.0            0.0   \n",
              "2            0.0            0.0            0.0            0.0            0.0   \n",
              "3            0.0            0.0            0.0            0.0            0.0   \n",
              "4            0.0            0.0            0.0            0.0            0.0   \n",
              "\n",
              "   LastMonth_jul  LastMonth_jun  LastMonth_mar  LastMonth_may  LastMonth_nov  \\\n",
              "0            0.0            0.0            0.0            1.0            0.0   \n",
              "1            0.0            0.0            0.0            1.0            0.0   \n",
              "2            1.0            0.0            0.0            0.0            0.0   \n",
              "3            1.0            0.0            0.0            0.0            0.0   \n",
              "4            0.0            0.0            0.0            1.0            0.0   \n",
              "\n",
              "   LastMonth_oct  LastMonth_sep  Coutcome_no  Coutcome_yes  \n",
              "0            0.0            0.0          1.0           0.0  \n",
              "1            0.0            0.0          1.0           0.0  \n",
              "2            0.0            0.0          1.0           0.0  \n",
              "3            0.0            0.0          1.0           0.0  \n",
              "4            0.0            0.0          1.0           0.0  "
            ]
          },
          "execution_count": 199,
          "metadata": {},
          "output_type": "execute_result"
        }
      ],
      "source": [
        "data_hot_encoded = pd.DataFrame(X_cat_new.toarray(),index=clean_df.index,columns=feature_names)\n",
        "data_hot_encoded.to_csv('new_Data.csv',sep=',')\n",
        "    \n",
        "data_hot_encoded.head()\n",
        "\n",
        "\n"
      ]
    },
    {
      "cell_type": "code",
      "execution_count": 200,
      "metadata": {},
      "outputs": [
        {
          "data": {
            "text/html": [
              "<div>\n",
              "<style scoped>\n",
              "    .dataframe tbody tr th:only-of-type {\n",
              "        vertical-align: middle;\n",
              "    }\n",
              "\n",
              "    .dataframe tbody tr th {\n",
              "        vertical-align: top;\n",
              "    }\n",
              "\n",
              "    .dataframe thead th {\n",
              "        text-align: right;\n",
              "    }\n",
              "</style>\n",
              "<table border=\"1\" class=\"dataframe\">\n",
              "  <thead>\n",
              "    <tr style=\"text-align: right;\">\n",
              "      <th></th>\n",
              "      <th>Age</th>\n",
              "      <th>Job</th>\n",
              "      <th>Marital</th>\n",
              "      <th>Education</th>\n",
              "      <th>Credit?</th>\n",
              "      <th>Balance</th>\n",
              "      <th>HousingLoan</th>\n",
              "      <th>PersonalLoan</th>\n",
              "      <th>Contact</th>\n",
              "      <th>ContactDuration</th>\n",
              "      <th>...</th>\n",
              "      <th>LastMonth_jan</th>\n",
              "      <th>LastMonth_jul</th>\n",
              "      <th>LastMonth_jun</th>\n",
              "      <th>LastMonth_mar</th>\n",
              "      <th>LastMonth_may</th>\n",
              "      <th>LastMonth_nov</th>\n",
              "      <th>LastMonth_oct</th>\n",
              "      <th>LastMonth_sep</th>\n",
              "      <th>Coutcome_no</th>\n",
              "      <th>Coutcome_yes</th>\n",
              "    </tr>\n",
              "  </thead>\n",
              "  <tbody>\n",
              "    <tr>\n",
              "      <th>0</th>\n",
              "      <td>34</td>\n",
              "      <td>blue-collar</td>\n",
              "      <td>married</td>\n",
              "      <td>secondary</td>\n",
              "      <td>no</td>\n",
              "      <td>7216</td>\n",
              "      <td>yes</td>\n",
              "      <td>no</td>\n",
              "      <td>unknown</td>\n",
              "      <td>143</td>\n",
              "      <td>...</td>\n",
              "      <td>0.0</td>\n",
              "      <td>0.0</td>\n",
              "      <td>0.0</td>\n",
              "      <td>0.0</td>\n",
              "      <td>1.0</td>\n",
              "      <td>0.0</td>\n",
              "      <td>0.0</td>\n",
              "      <td>0.0</td>\n",
              "      <td>1.0</td>\n",
              "      <td>0.0</td>\n",
              "    </tr>\n",
              "    <tr>\n",
              "      <th>1</th>\n",
              "      <td>29</td>\n",
              "      <td>housemaid</td>\n",
              "      <td>married</td>\n",
              "      <td>secondary</td>\n",
              "      <td>no</td>\n",
              "      <td>823</td>\n",
              "      <td>yes</td>\n",
              "      <td>no</td>\n",
              "      <td>unknown</td>\n",
              "      <td>14</td>\n",
              "      <td>...</td>\n",
              "      <td>0.0</td>\n",
              "      <td>0.0</td>\n",
              "      <td>0.0</td>\n",
              "      <td>0.0</td>\n",
              "      <td>1.0</td>\n",
              "      <td>0.0</td>\n",
              "      <td>0.0</td>\n",
              "      <td>0.0</td>\n",
              "      <td>1.0</td>\n",
              "      <td>0.0</td>\n",
              "    </tr>\n",
              "    <tr>\n",
              "      <th>2</th>\n",
              "      <td>41</td>\n",
              "      <td>blue-collar</td>\n",
              "      <td>married</td>\n",
              "      <td>primary</td>\n",
              "      <td>no</td>\n",
              "      <td>17</td>\n",
              "      <td>no</td>\n",
              "      <td>no</td>\n",
              "      <td>cellular</td>\n",
              "      <td>117</td>\n",
              "      <td>...</td>\n",
              "      <td>0.0</td>\n",
              "      <td>1.0</td>\n",
              "      <td>0.0</td>\n",
              "      <td>0.0</td>\n",
              "      <td>0.0</td>\n",
              "      <td>0.0</td>\n",
              "      <td>0.0</td>\n",
              "      <td>0.0</td>\n",
              "      <td>1.0</td>\n",
              "      <td>0.0</td>\n",
              "    </tr>\n",
              "    <tr>\n",
              "      <th>3</th>\n",
              "      <td>37</td>\n",
              "      <td>technician</td>\n",
              "      <td>married</td>\n",
              "      <td>secondary</td>\n",
              "      <td>no</td>\n",
              "      <td>729</td>\n",
              "      <td>yes</td>\n",
              "      <td>no</td>\n",
              "      <td>cellular</td>\n",
              "      <td>115</td>\n",
              "      <td>...</td>\n",
              "      <td>0.0</td>\n",
              "      <td>1.0</td>\n",
              "      <td>0.0</td>\n",
              "      <td>0.0</td>\n",
              "      <td>0.0</td>\n",
              "      <td>0.0</td>\n",
              "      <td>0.0</td>\n",
              "      <td>0.0</td>\n",
              "      <td>1.0</td>\n",
              "      <td>0.0</td>\n",
              "    </tr>\n",
              "    <tr>\n",
              "      <th>4</th>\n",
              "      <td>32</td>\n",
              "      <td>blue-collar</td>\n",
              "      <td>single</td>\n",
              "      <td>secondary</td>\n",
              "      <td>no</td>\n",
              "      <td>15341</td>\n",
              "      <td>no</td>\n",
              "      <td>no</td>\n",
              "      <td>unknown</td>\n",
              "      <td>738</td>\n",
              "      <td>...</td>\n",
              "      <td>0.0</td>\n",
              "      <td>0.0</td>\n",
              "      <td>0.0</td>\n",
              "      <td>0.0</td>\n",
              "      <td>1.0</td>\n",
              "      <td>0.0</td>\n",
              "      <td>0.0</td>\n",
              "      <td>0.0</td>\n",
              "      <td>1.0</td>\n",
              "      <td>0.0</td>\n",
              "    </tr>\n",
              "  </tbody>\n",
              "</table>\n",
              "<p>5 rows × 28 columns</p>\n",
              "</div>"
            ],
            "text/plain": [
              "   Age          Job  Marital  Education Credit?  Balance HousingLoan  \\\n",
              "0   34  blue-collar  married  secondary      no     7216         yes   \n",
              "1   29    housemaid  married  secondary      no      823         yes   \n",
              "2   41  blue-collar  married    primary      no       17          no   \n",
              "3   37   technician  married  secondary      no      729         yes   \n",
              "4   32  blue-collar   single  secondary      no    15341          no   \n",
              "\n",
              "  PersonalLoan   Contact  ContactDuration  ...  LastMonth_jan  LastMonth_jul  \\\n",
              "0           no   unknown              143  ...            0.0            0.0   \n",
              "1           no   unknown               14  ...            0.0            0.0   \n",
              "2           no  cellular              117  ...            0.0            1.0   \n",
              "3           no  cellular              115  ...            0.0            1.0   \n",
              "4           no   unknown              738  ...            0.0            0.0   \n",
              "\n",
              "   LastMonth_jun LastMonth_mar  LastMonth_may  LastMonth_nov  LastMonth_oct  \\\n",
              "0            0.0           0.0            1.0            0.0            0.0   \n",
              "1            0.0           0.0            1.0            0.0            0.0   \n",
              "2            0.0           0.0            0.0            0.0            0.0   \n",
              "3            0.0           0.0            0.0            0.0            0.0   \n",
              "4            0.0           0.0            1.0            0.0            0.0   \n",
              "\n",
              "   LastMonth_sep  Coutcome_no  Coutcome_yes  \n",
              "0            0.0          1.0           0.0  \n",
              "1            0.0          1.0           0.0  \n",
              "2            0.0          1.0           0.0  \n",
              "3            0.0          1.0           0.0  \n",
              "4            0.0          1.0           0.0  \n",
              "\n",
              "[5 rows x 28 columns]"
            ]
          },
          "execution_count": 200,
          "metadata": {},
          "output_type": "execute_result"
        }
      ],
      "source": [
        "new_df = pd.concat([data_other_cols,data_hot_encoded],axis =1)\n",
        "\n",
        "new_df.to_csv('new_Data.csv',sep=',')\n",
        "\n",
        "new_df.head()"
      ]
    },
    {
      "cell_type": "markdown",
      "metadata": {},
      "source": [
        "<h1>First Feature Selection<h1>"
      ]
    },
    {
      "cell_type": "code",
      "execution_count": 201,
      "metadata": {},
      "outputs": [
        {
          "data": {
            "text/plain": [
              "array([[  0.,   2.,  -1.],\n",
              "       [  0.,   2.,  -1.],\n",
              "       [  0.,   3.,  -1.],\n",
              "       ...,\n",
              "       [  0.,   5., 184.],\n",
              "       [  0.,   4.,  -1.],\n",
              "       [  0.,   2., 188.]])"
            ]
          },
          "execution_count": 201,
          "metadata": {},
          "output_type": "execute_result"
        }
      ],
      "source": [
        "# X1 = new_df.loc[:,['LastMonth_apr' ,'LastMonth_aug' ,'LastMonth_dec', 'LastMonth_feb',\n",
        "#  'LastMonth_jan' , 'LastMonth_jul' , 'LastMonth_jun',  'LastMonth_mar',\n",
        "#  'LastMonth_may',  'LastMonth_nov' , 'LastMonth_oct',  'LastMonth_sep','Coutcome_no','Coutcome_yes']].values\n",
        "\n",
        "X1 = new_df.loc[:,['LastMonth_apr', 'CampaignContacts', 'Pdays']].values\n",
        "X1"
      ]
    },
    {
      "cell_type": "code",
      "execution_count": 202,
      "metadata": {},
      "outputs": [
        {
          "data": {
            "text/plain": [
              "array([[0.        , 0.01612903, 0.        ],\n",
              "       [0.        , 0.01612903, 0.        ],\n",
              "       [0.        , 0.03225806, 0.        ],\n",
              "       ...,\n",
              "       [0.        , 0.06451613, 0.21215596],\n",
              "       [0.        , 0.0483871 , 0.        ],\n",
              "       [0.        , 0.01612903, 0.21674312]])"
            ]
          },
          "execution_count": 202,
          "metadata": {},
          "output_type": "execute_result"
        }
      ],
      "source": [
        "scaler = MinMaxScaler().fit(X1)\n",
        "\n",
        "scaler.transform(X1)"
      ]
    },
    {
      "cell_type": "code",
      "execution_count": 203,
      "metadata": {},
      "outputs": [],
      "source": [
        "kmeans_per_k = [KMeans(n_clusters=k, random_state=42).fit(X1)for k in range(1,9)]\n",
        "inertias = [model.inertia_ for model in kmeans_per_k]"
      ]
    },
    {
      "cell_type": "code",
      "execution_count": 204,
      "metadata": {},
      "outputs": [
        {
          "data": {
            "image/png": "[encoded data removed]",
            "text/plain": [
              "<Figure size 800x350 with 1 Axes>"
            ]
          },
          "metadata": {},
          "output_type": "display_data"
        }
      ],
      "source": [
        "plt.figure(figsize=(8, 3.5))\n",
        "plt.plot(range(1, 9), inertias, \"bo-\")\n",
        "plt.xlabel(\"$k$\", fontsize=14)\n",
        "plt.grid(True)\n",
        "plt.ylabel(\"Inertia\", fontsize=14)\n",
        "\n",
        "plt.annotate('Elbow',\n",
        "             xy=(6, inertias[5]),\n",
        "             xytext=(0.55, 0.55),\n",
        "             textcoords='figure fraction',\n",
        "             fontsize=16,\n",
        "             arrowprops=dict(facecolor='black', shrink=0.1)\n",
        "            )\n",
        "\n",
        "#plt.axis([1, 8.5, 0, 1300])\n",
        "\n",
        "plt.show()"
      ]
    },
    {
      "cell_type": "code",
      "execution_count": 205,
      "metadata": {},
      "outputs": [
        {
          "data": {
            "text/plain": [
              "array([0, 0, 0, ..., 1, 0, 1])"
            ]
          },
          "execution_count": 205,
          "metadata": {},
          "output_type": "execute_result"
        }
      ],
      "source": [
        "k = 5\n",
        "kmeans = KMeans(n_clusters=k, random_state=42)\n",
        "y_pred = kmeans.fit_predict(X1)\n",
        "y_pred"
      ]
    },
    {
      "cell_type": "code",
      "execution_count": 206,
      "metadata": {},
      "outputs": [
        {
          "data": {
            "text/plain": [
              "array([[ 4.92609514e-02,  2.91604407e+00, -8.65573770e-01],\n",
              "       [ 8.48167539e-02,  2.08237347e+00,  1.99720768e+02],\n",
              "       [ 2.06420435e-01,  2.19330342e+00,  3.37915775e+02],\n",
              "       [ 1.19658120e-01,  1.85422602e+00,  1.04022792e+02],\n",
              "       [ 4.61538462e-02,  1.67692308e+00,  6.10623077e+02]])"
            ]
          },
          "execution_count": 206,
          "metadata": {},
          "output_type": "execute_result"
        }
      ],
      "source": [
        "kmeans.cluster_centers_"
      ]
    },
    {
      "cell_type": "code",
      "execution_count": 223,
      "metadata": {},
      "outputs": [
        {
          "data": {
            "image/png": "[encoded data removed]",
            "text/plain": [
              "<Figure size 640x480 with 1 Axes>"
            ]
          },
          "metadata": {},
          "output_type": "display_data"
        }
      ],
      "source": [
        "plt.plot(X1[y_pred==0, 1], X1[y_pred==0, 2], \"yo\", label=\"Cluster 1\")\n",
        "plt.plot(X1[y_pred==1, 1], X1[y_pred==1, 2], \"bs\", label=\"Cluster 2\")\n",
        "plt.plot(X1[y_pred==2, 1], X1[y_pred==2, 2], \"g^\", label=\"Cluster 3\")\n",
        "plt.plot(X1[y_pred==3, 1], X1[y_pred==3, 2], \"m*\", label=\"Cluster 4\")\n",
        "plt.plot(X1[y_pred==4, 1], X1[y_pred==4, 2], \"c.\", label=\"Cluster 5\")\n",
        "#plt.plot(X1[y_pred==5, 1], X1[y_pred==5, 0], \"r>\", label=\"Cluster 6\")\n",
        "\n",
        "plt.scatter(kmeans.cluster_centers_[:, 0], kmeans.cluster_centers_[:, 1], s=300, c='Black', marker ='o', label='Centroids')\n",
        "\n",
        "plt.xlabel(\"CampaignContacts\", fontsize=14)\n",
        "plt.ylabel(\"Pdays\", fontsize=14)\n",
        "plt.legend(loc=\"upper right\", fontsize=12, fancybox=True, framealpha=0.3)\n",
        "plt.show()\n",
        "\n",
        "\n",
        "\n"
      ]
    }
  ],
  "metadata": {
    "colab": {
      "provenance": []
    },
    "kernelspec": {
      "display_name": "Python 3",
      "name": "python3"
    },
    "language_info": {
      "codemirror_mode": {
        "name": "ipython",
        "version": 3
      },
      "file_extension": ".py",
      "mimetype": "text/x-python",
      "name": "python",
      "nbconvert_exporter": "python",
      "pygments_lexer": "ipython3",
      "version": "3.10.10"
    }
  },
  "nbformat": 4,
  "nbformat_minor": 0
}
